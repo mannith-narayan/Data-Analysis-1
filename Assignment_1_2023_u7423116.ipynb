{
 "cells": [
  {
   "cell_type": "markdown",
   "metadata": {
    "tags": []
   },
   "source": [
    "<h1 align='center'> COMP2420/COMP6420 - Introduction to Data Management,<br/> Analysis and Security</h1>\n",
    "\n",
    "<h1 align='center'> Assignment - 1</h1>\n",
    "\n",
    "-----\n",
    "<br/>\n",
    "\n",
    "## Grading\n",
    "\n",
    "|**Maximum Marks**         |**100**\n",
    "|--------------------------|--------\n",
    "|  **Weight**              |  **15% of the Total Course Grade**\n",
    "|  **Submission deadline** |  **11:59PM, Friday, March 31**\n",
    "|  **Submission mode**     |  **Electronic, Using GitLab**\n",
    "|  **Penalty**             |  **100% after the deadline**\n",
    "\n",
    "\n",
    "## Learning Outcomes\n",
    "The following learning outcomes apply to this piece:\n",
    "- **LO3** - Demonstrate basic knowledge and understanding of descriptive and predictive data analysis methods, optimization and search, and knowledge representation.\n",
    "- **LO4** - Formulate and extract descriptive and predictive statistics from data\n",
    "- **LO5** - Analyse and interpret results from descriptive and predictive data analysis\n",
    "- **LO6** - Apply their knowledge to a given problem domain and articulate potential data analysis problems\n",
    "\n",
    "\n",
    "## Submission\n",
    "\n",
    "You need to submit the following items:\n",
    "- The notebook `Assignment_1_2023_uXXXXXXX.ipynb` (where uXXXXXXX is your uid) \n",
    "- A completed `statement-of-originality.md`, found in the root of the forked gitlab repo.\n",
    "\n",
    "Submissions are performed by pushing to your forked GitLab assignment repository. For a refresher on forking and cloning repositories, please refer to `Lab 1`. Issues with your Git repo (with the exception of a CECS/ANU wide Gitlab failure) will not be considered as grounds for an extension. You will also need to add your details below. Any variation of this will result in a `zero mark`.\n",
    "\n",
    "***** \n",
    "\n",
    "### Notes:\n",
    "\n",
    "* It is strongly advised to read the whole assignment before attempting it and have at least a cursory glance at the dataset in order to gauge the requirements and understand what you need to do as a bigger picture.\n",
    "* Backup your assignment to your Gitlab repo often. \n",
    "* Extra reading and research will be required. Make sure you include all references in your Statement of Originality. If this does not occur, at best marks will be deduced. Otherwise, academic misconduct processes will be followed.\n",
    "* For answers requiring free form written text, use the designated cells denoted by `YOUR WRITTEN ANSWER HERE` -- double click on the cell to write inside them. Leave it blank if you don't have anything to write.\n",
    "* For all coding questions please write your code after the comment `YOUR CODE HERE`. Remember to document your code using comments and doc strings as appropriate.\n",
    "* In the process of testing your code, you can insert more cells or use print statements for debugging, but when submitting your file remember to remove these cells and calls respectively. You are welcome to add additional cells to the final submission, provided they add value to the overall piece.\n",
    "* You will be marked on **correctness** and **readability** of your code, if your marker can't understand your code your marks may be deducted.\n",
    "* Comment your code.\n",
    "* Before submitting, restart the kernel in Jupyter Lab and re-run all cells before submitting your code. This will ensure the namespace has not kept any old variables, as these won't come across in submission and your code will not run. Without this, you could lose a significant number of marks.\n",
    "\n",
    "*****\n"
   ]
  },
  {
   "cell_type": "markdown",
   "metadata": {},
   "source": [
    "### Enter your Student ID below:"
   ]
  },
  {
   "cell_type": "raw",
   "metadata": {},
   "source": [
    "u7423116\n"
   ]
  },
  {
   "cell_type": "markdown",
   "metadata": {},
   "source": [
    "## Introduction\n",
    "\n",
    "The study of sea ice in polar regions is of great importance due to the critical role that sea ice plays in global climate and ecosystem health. Sea ice covers vast expanses of the Arctic and Antarctic oceans, acting as a reflective surface that helps regulate the Earth's temperature by reflecting sunlight back into space. As such, changes in sea ice cover (herein, we refer it to as sea ice extent) can have significant impacts on global climate patterns and ocean currents. Sea ice also provides a critical habitat for a wide range of Arctic and Antarctic marine species, including krill, polar bears, and various species of seals. The health and abundance of these species are directly linked to the extent and duration of sea ice cover extent. Furthermore, sea ice serves as a major transportation route for commercial shipping and resource extraction. Given these factors, the study of sea ice in polar regions is essential for understanding and mitigating the impacts of climate change and ensuring the long-term sustainability of polar ecosystems and human societies. \n",
    "\n",
    "The primary focus of this assignment is to conduct a some basic data analysis of sea ice extent in the polar region. The analysis will be centered on the study of a given data set (SeaIceExtent.csv). Through this study, the goal is to gain a preliminary comprehension of how sea ice extent is changing in the polar regions over time. The analysis will involve the use of statistical tools and techniques to identify trends, patterns, and anomalies in the data, as well as to develop models, particularly, linear regression models, that can help predict future changes in sea ice cover. The findings of this study will be potentially valuable in informing policy decisions related to climate change mitigation and adaptation, as well as in guiding the development of sustainable strategies for managing polar resources and ecosystems. Overall, this assignment represents an important effort to contribute to our understanding of one of the most critical and rapidly changing aspects of the Earth's climate system. With all this in mind, I hope you find joy in engaging with this assignment beyond simply completing it.\n",
    "\n"
   ]
  },
  {
   "cell_type": "markdown",
   "metadata": {},
   "source": [
    "*******************\n",
    "## Package Imports"
   ]
  },
  {
   "cell_type": "code",
   "execution_count": 241,
   "metadata": {},
   "outputs": [],
   "source": [
    "# Common Imports\n",
    "import numpy as np\n",
    "import pandas as pd\n",
    "from scipy import stats\n",
    "from sklearn.linear_model import LinearRegression\n",
    "import matplotlib.pyplot as plt\n",
    "from matplotlib import cm\n",
    "import seaborn as sns\n",
    "plt.style.use('seaborn')\n",
    "%matplotlib inline"
   ]
  },
  {
   "cell_type": "code",
   "execution_count": 242,
   "metadata": {},
   "outputs": [],
   "source": [
    "# Import additional modules here as required\n",
    "#\n",
    "# Note that only modules in the standard Anaconda distribution are allowed. \n",
    "# If you need to install it manually, it is not an accepted package.\n",
    "#"
   ]
  },
  {
   "cell_type": "markdown",
   "metadata": {},
   "source": [
    "**Several notes on printing and plotting**\n",
    "* Throughout this assignment, when writing codes to print, your codes should <u>**include the relevant units and/or give relevant description**</u> of what you are printing. \n",
    "\n",
    "* A professional plot typically has the following characteristics:\n",
    "\n",
    "    * Clear and concise labeling: A professional plot should have clear and concise labeling of the x and y axes, as well as a clear title that conveys the purpose of the plot.\n",
    "\n",
    "    * Appropriate scales: The scales on the x and y axes should be appropriate for the data being presented. This means that the scales should be chosen so that the data is not too compressed or stretched out, and so that important features of the data are easily visible.\n",
    "\n",
    "    * Appropriate plot type: The plot type should be appropriate for the data being presented. For example, if the data is continuous, a line plot or a scatter plot may be appropriate. If the data is categorical, a bar chart or a pie chart may be more appropriate.\n",
    "\n",
    "    * Clarity: A professional plot should be visually clear and easy to interpret. This means that unnecessary elements should be removed, colors should be used judiciously, and the plot should be free of clutter.\n",
    "\n",
    "    * Consistency: A professional plot should be consistent in its formatting with other plots that may be presented in the same report. This means that font sizes, line widths, and colors should be consistent across all plots.\n"
   ]
  },
  {
   "cell_type": "markdown",
   "metadata": {},
   "source": [
    "****\n",
    "## Q1: Loading and Basic Analysis of the Data\n",
    "\n",
    "Briefly state your work on each Task and justify your decisions. For example, when using an existing function, briefly state what the function does (e.g., a mean function calculates the average values of the ensambles). \n",
    "\n",
    "\n",
    "#### Task 1: Load the data file SeaIceExtent.csv into a Pandas DataFrame and make it ready for use. (4 marks)\n",
    "\n",
    "**Hints:**\n",
    "* You might want to drop unnecessary or rededundant columns and/or rows.\n",
    "\n",
    "* You might want to rename some columns and/or rows."
   ]
  },
  {
   "cell_type": "code",
   "execution_count": 243,
   "metadata": {},
   "outputs": [],
   "source": [
    "iceExtent = pd.read_csv('SeaIceExtent.csv')\n",
    "iceExtent.rename(columns={' Month':'Month',' Day':'Day',\"     Extent (Antarctic)\":'Extent (Antarctic)',\n",
    "                         \"    Missing (Antarctic)\":'Missing (Antarctic)',\"     Extent (Arctic)\":'Extent (Arctic)',\n",
    "                         \"    Missing (Arctic)\":'Missing (Arctic)'},inplace = True)\n",
    "iceExtent['Date'] = iceExtent.apply(lambda row: \"-\".join([str(row['Year']), str(row['Month']), str(row['Day'])]), axis=1)\n",
    "iceExtent.drop(['Unnamed: 7',' Source Data','Month','Day','Year'],axis = 1,inplace = True)\n",
    "iceExtent = iceExtent.iloc[1:]\n",
    "iceExtent = iceExtent.reset_index(drop = True)\n",
    "iceExtent = iceExtent[['Date','Extent (Antarctic)','Missing (Antarctic)','Extent (Arctic)','Missing (Arctic)']]\n"
   ]
  },
  {
   "cell_type": "raw",
   "metadata": {},
   "source": [
    "1. Dropped the empty  and 'Source Data' column as they are redundant.\n",
    "(Source : https://www.datasciencelearner.com/drop-unnamed-column-pandas/)\n",
    "2. Removed the first row that contained units.\n",
    "3. Reset the index back to 0 to make understanding the code easier.\n",
    "4. Renamed columns\n",
    "(Source : https://pandas.pydata.org/docs/reference/api/pandas.DataFrame.rename.html)\n",
    "5.Added a date column and changed the indices of columns\n",
    "(Source : https://stackoverflow.com/questions/23668427/pandas-three-way-joining-multiple-dataframes-on-columns)"
   ]
  },
  {
   "cell_type": "markdown",
   "metadata": {},
   "source": [
    "#### Task 2: Data basic visualisation \n",
    "\n",
    "- Task 2.1: Access the data and print the Antarctic and Arctic sea ice extents of week 2 of S1 2023 (February 27 to March 3, 2023). (2 marks)\n",
    "    "
   ]
  },
  {
   "cell_type": "code",
   "execution_count": 244,
   "metadata": {},
   "outputs": [
    {
     "data": {
      "text/html": [
       "<div>\n",
       "<style scoped>\n",
       "    .dataframe tbody tr th:only-of-type {\n",
       "        vertical-align: middle;\n",
       "    }\n",
       "\n",
       "    .dataframe tbody tr th {\n",
       "        vertical-align: top;\n",
       "    }\n",
       "\n",
       "    .dataframe thead th {\n",
       "        text-align: right;\n",
       "    }\n",
       "</style>\n",
       "<table border=\"1\" class=\"dataframe\">\n",
       "  <thead>\n",
       "    <tr style=\"text-align: right;\">\n",
       "      <th></th>\n",
       "      <th>Date</th>\n",
       "      <th>Extent (Antarctic)</th>\n",
       "      <th>Missing (Antarctic)</th>\n",
       "      <th>Extent (Arctic)</th>\n",
       "      <th>Missing (Arctic)</th>\n",
       "    </tr>\n",
       "  </thead>\n",
       "  <tbody>\n",
       "    <tr>\n",
       "      <th>14544</th>\n",
       "      <td>2023-2-27</td>\n",
       "      <td>1.856</td>\n",
       "      <td>0</td>\n",
       "      <td>14.462</td>\n",
       "      <td>0</td>\n",
       "    </tr>\n",
       "    <tr>\n",
       "      <th>14545</th>\n",
       "      <td>2023-2-28</td>\n",
       "      <td>1.848</td>\n",
       "      <td>0</td>\n",
       "      <td>14.476</td>\n",
       "      <td>0</td>\n",
       "    </tr>\n",
       "    <tr>\n",
       "      <th>14546</th>\n",
       "      <td>2023-3-1</td>\n",
       "      <td>1.907</td>\n",
       "      <td>0</td>\n",
       "      <td>14.529</td>\n",
       "      <td>0</td>\n",
       "    </tr>\n",
       "    <tr>\n",
       "      <th>14547</th>\n",
       "      <td>2023-3-2</td>\n",
       "      <td>1.908</td>\n",
       "      <td>0</td>\n",
       "      <td>14.627</td>\n",
       "      <td>0</td>\n",
       "    </tr>\n",
       "    <tr>\n",
       "      <th>14548</th>\n",
       "      <td>2023-3-3</td>\n",
       "      <td>1.877</td>\n",
       "      <td>0</td>\n",
       "      <td>14.61</td>\n",
       "      <td>0</td>\n",
       "    </tr>\n",
       "  </tbody>\n",
       "</table>\n",
       "</div>"
      ],
      "text/plain": [
       "            Date Extent (Antarctic) Missing (Antarctic) Extent (Arctic)  \\\n",
       "14544  2023-2-27              1.856                   0          14.462   \n",
       "14545  2023-2-28              1.848                   0          14.476   \n",
       "14546   2023-3-1              1.907                   0          14.529   \n",
       "14547   2023-3-2              1.908                   0          14.627   \n",
       "14548   2023-3-3              1.877                   0           14.61   \n",
       "\n",
       "      Missing (Arctic)  \n",
       "14544                0  \n",
       "14545                0  \n",
       "14546                0  \n",
       "14547                0  \n",
       "14548                0  "
      ]
     },
     "execution_count": 244,
     "metadata": {},
     "output_type": "execute_result"
    }
   ],
   "source": [
    "start_date = iceExtent[iceExtent['Date']=='2023-2-27'] #source pandas cheat-sheet\n",
    "end_date = iceExtent[iceExtent['Date']=='2023-3-3']\n",
    "start_index = start_date.index[0]\n",
    "end_index = end_date.index[0]\n",
    "s1_week2 = iceExtent[start_index:end_index+1]\n",
    "s1_week2\n"
   ]
  },
  {
   "cell_type": "raw",
   "metadata": {},
   "source": [
    "# YOUR WRITTEN ANSWER HERE\n"
   ]
  },
  {
   "cell_type": "markdown",
   "metadata": {},
   "source": [
    "- Task 2.2: In one figure, plot the daily trend of the Antarctic and Arctic sea ice extents.  (4 marks)\n",
    "    "
   ]
  },
  {
   "cell_type": "code",
   "execution_count": 250,
   "metadata": {
    "scrolled": true
   },
   "outputs": [
    {
     "data": {
      "image/png": "[encoded data removed]",
      "text/plain": [
       "<Figure size 640x440 with 2 Axes>"
      ]
     },
     "metadata": {},
     "output_type": "display_data"
    }
   ],
   "source": [
    "days = ['Mon','Tue','Wed','Thu','Fri']\n",
    "antarctic_extent = s1_week2['Extent (Antarctic)'].tolist()\n",
    "antarctic_extent = [float(x) for x in antarctic_extent]\n",
    "arctic_extent = s1_week2['Extent (Arctic)'].tolist()\n",
    "arctic_extent = [float(x) for x in arctic_extent]\n",
    "\n",
    "plt.subplot(1,2,1)\n",
    "plt.plot(days,antarctic_extent)\n",
    "plt.title(\"Antarctic Extent\",size = 14)\n",
    "plt.xlabel(\"Days\")\n",
    "plt.ylabel(\"Sea Ice Extent (10^6 Sq km)\")\n",
    "\n",
    "plt.subplot(1,2,2)\n",
    "plt.plot(days,arctic_extent,color = 'orange')\n",
    "plt.title(\"Arctic Extent\",size = 14)\n",
    "plt.xlabel(\"Days\")\n",
    "plt.ylabel(\"Sea Ice Extent (10^6 Sq km)\")\n",
    "\n",
    "\n",
    "plt.subplots_adjust(wspace=0.4)\n",
    "plt.show()\n",
    "\n"
   ]
  },
  {
   "cell_type": "raw",
   "metadata": {},
   "source": [
    "# YOUR WRITTEN ANSWER HERE\n",
    "\n"
   ]
  },
  {
   "cell_type": "markdown",
   "metadata": {},
   "source": [
    "#### Task 3: Data basic processing\n",
    "    \n",
    "- Task 3.1: Identify the missing dates (the dates when the sea ice extents are not available): Store the total number of dates of each year in a table where each row specifies the year (column 1) and the total number of dates (column 2). Print the table. (4 marks)\n",
    "    "
   ]
  },
  {
   "cell_type": "code",
   "execution_count": 261,
   "metadata": {},
   "outputs": [
    {
     "data": {
      "text/plain": [
       "50    0\n",
       "51    0\n",
       "52    0\n",
       "53    0\n",
       "54    0\n",
       "55    0\n",
       "56    0\n",
       "57    0\n",
       "58    0\n",
       "59    0\n",
       "60    0\n",
       "61    0\n",
       "62    0\n",
       "63    0\n",
       "64    0\n",
       "65    0\n",
       "66    0\n",
       "67    0\n",
       "68    0\n",
       "69    0\n",
       "70    0\n",
       "71    0\n",
       "72    0\n",
       "73    0\n",
       "74    0\n",
       "75    0\n",
       "76    0\n",
       "77    0\n",
       "78    0\n",
       "79    0\n",
       "80    0\n",
       "81    0\n",
       "82    0\n",
       "83    0\n",
       "84    0\n",
       "85    0\n",
       "86    0\n",
       "87    0\n",
       "88    0\n",
       "89    0\n",
       "90    0\n",
       "91    0\n",
       "92    0\n",
       "93    0\n",
       "94    0\n",
       "95    0\n",
       "96    0\n",
       "97    0\n",
       "98    0\n",
       "99    0\n",
       "Name: Missing (Antarctic), dtype: object"
      ]
     },
     "execution_count": 261,
     "metadata": {},
     "output_type": "execute_result"
    }
   ],
   "source": [
    "# YOUR CODE HERE"
   ]
  },
  {
   "cell_type": "raw",
   "metadata": {},
   "source": [
    "# YOUR WRITTEN ANSWER HERE\n"
   ]
  },
  {
   "cell_type": "markdown",
   "metadata": {},
   "source": [
    "- Task 3.2: Evaluate the sea ice extent monthly averages; then similar to Task 2.2, in one figure, plot the monthly trend of the Antarctic and Arctic sea ice extents. (4 marks)"
   ]
  },
  {
   "cell_type": "code",
   "execution_count": 7,
   "metadata": {},
   "outputs": [],
   "source": [
    "# YOUR CODE HERE\n"
   ]
  },
  {
   "cell_type": "raw",
   "metadata": {},
   "source": [
    "# YOUR WRITTEN ANSWER HERE\n"
   ]
  },
  {
   "cell_type": "markdown",
   "metadata": {},
   "source": [
    "#### Task 4: Study the central tendency of the data\n",
    "\n",
    "Recall from Lecture 3 that the most common measures of centre tendency are the 3M: Mode, Median, and\n",
    "Mean. We study these 3Ms one-by-one as below.\n",
    "\n",
    "- Task 4.1: Calculate and print the mode of both the Antarctic and Arctic sea ice extents. For this calculation, round both the Antarctic and Arctic sea ice extents to the nearest million. (4 marks)\n",
    "    "
   ]
  },
  {
   "cell_type": "code",
   "execution_count": 8,
   "metadata": {},
   "outputs": [],
   "source": [
    "# YOUR CODE HERE\n"
   ]
  },
  {
   "cell_type": "raw",
   "metadata": {},
   "source": [
    "# YOUR WRITTEN ANSWER HERE\n"
   ]
  },
  {
   "cell_type": "markdown",
   "metadata": {},
   "source": [
    "- Task 4.2: Calculate and print the median of both the Antarctic and Arctic sea ice extents (2 marks)\n",
    "    "
   ]
  },
  {
   "cell_type": "code",
   "execution_count": 9,
   "metadata": {},
   "outputs": [],
   "source": [
    "# YOUR CODE HERE\n"
   ]
  },
  {
   "cell_type": "raw",
   "metadata": {},
   "source": [
    "# YOUR WRITTEN ANSWER HERE\n"
   ]
  },
  {
   "cell_type": "markdown",
   "metadata": {},
   "source": [
    "- Task 4.3: Calculate and print the mean of both the Antarctic and Arctic sea ice extents (2 marks)\n",
    "    "
   ]
  },
  {
   "cell_type": "code",
   "execution_count": 10,
   "metadata": {},
   "outputs": [],
   "source": [
    "# YOUR CODE HERE\n"
   ]
  },
  {
   "cell_type": "raw",
   "metadata": {},
   "source": [
    "# YOUR WRITTEN ANSWER HERE\n"
   ]
  },
  {
   "cell_type": "markdown",
   "metadata": {},
   "source": [
    "#### Task 5: Study the variability of the data\n",
    "\n",
    "- Task 5.1: Create two new columns to store the sums of the missing extents and the corresponding polar regions (adding Missing Antarctic to Antarctic; adding Missing Arctic to Arctic). (2 marks) \n",
    "    "
   ]
  },
  {
   "cell_type": "code",
   "execution_count": 11,
   "metadata": {},
   "outputs": [],
   "source": [
    "# YOUR CODE HERE\n"
   ]
  },
  {
   "cell_type": "raw",
   "metadata": {},
   "source": [
    "# YOUR WRITTEN ANSWER HERE\n"
   ]
  },
  {
   "cell_type": "markdown",
   "metadata": {},
   "source": [
    "- Task 5.2: Using the two new columns, calculate and print the range of both the Antarctic and Arctic sea ice extents (2 marks)\n",
    "    "
   ]
  },
  {
   "cell_type": "code",
   "execution_count": 12,
   "metadata": {},
   "outputs": [],
   "source": [
    "# YOUR CODE HERE\n"
   ]
  },
  {
   "cell_type": "raw",
   "metadata": {},
   "source": [
    "# YOUR WRITTEN ANSWER HERE\n"
   ]
  },
  {
   "cell_type": "markdown",
   "metadata": {},
   "source": [
    "- Task 5.3: Using the two new columns, calculate and print the variance of both the Antarctic and Arctic sea ice extents (2 marks)\n",
    "    "
   ]
  },
  {
   "cell_type": "code",
   "execution_count": 13,
   "metadata": {},
   "outputs": [],
   "source": [
    "# YOUR CODE HERE\n"
   ]
  },
  {
   "cell_type": "raw",
   "metadata": {},
   "source": [
    "# YOUR WRITTEN ANSWER HERE\n"
   ]
  },
  {
   "cell_type": "markdown",
   "metadata": {},
   "source": [
    "- Task 5.5: Using the two new columns, calculate and print the standard deviation of both the Antarctic and Arctic sea ice extents (2 marks)"
   ]
  },
  {
   "cell_type": "code",
   "execution_count": 14,
   "metadata": {},
   "outputs": [],
   "source": [
    "# YOUR CODE HERE\n"
   ]
  },
  {
   "cell_type": "raw",
   "metadata": {},
   "source": [
    "# YOUR WRITTEN ANSWER HERE\n"
   ]
  },
  {
   "cell_type": "markdown",
   "metadata": {},
   "source": [
    "******\n",
    "## Q2: EXPLORATORY DATA ANALYSIS\n",
    "\n",
    "In this section you are expected to do an exploratory data analysis on the dataset. Herein, we use the data generated in Task 5.1. \n",
    "\n",
    "- Task 1: Explore the correlation of the Antarctic and Arctic sea ice extents. You need to use both plot/plots and correlation test. (6 marks)"
   ]
  },
  {
   "cell_type": "code",
   "execution_count": 15,
   "metadata": {},
   "outputs": [],
   "source": [
    "# YOUR CODE HERE\n"
   ]
  },
  {
   "cell_type": "raw",
   "metadata": {},
   "source": [
    "# YOUR WRITTEN ANSWER HERE\n"
   ]
  },
  {
   "cell_type": "markdown",
   "metadata": {},
   "source": [
    "- Task 2: Shift the Arctic sea ice extent **forward** by six months (for example, this shift moves the date 15/01/2000 to 15/07/2000) and process your data appriopriately so that the dates match (4 marks)\n",
    "\n",
    "    **Hints**: (a) basically you want to remove the first six months of the Antarctic sea ice extent and the last six months so that the time window matches; (b) there are dates where either Antarctic sea ice extent or Arctic sea ice extent is missing; remove these rows to match. "
   ]
  },
  {
   "cell_type": "code",
   "execution_count": 16,
   "metadata": {},
   "outputs": [],
   "source": [
    "# YOUR CODE HERE\n"
   ]
  },
  {
   "cell_type": "raw",
   "metadata": {},
   "source": [
    "# YOUR WRITTEN ANSWER HERE\n"
   ]
  },
  {
   "cell_type": "markdown",
   "metadata": {},
   "source": [
    "- Task 3: Explore the correlation of the new data set. (4 marks) \n",
    "    "
   ]
  },
  {
   "cell_type": "code",
   "execution_count": 17,
   "metadata": {},
   "outputs": [],
   "source": [
    "# YOUR CODE HERE\n"
   ]
  },
  {
   "cell_type": "raw",
   "metadata": {},
   "source": [
    "# YOUR WRITTEN ANSWER HERE\n"
   ]
  },
  {
   "cell_type": "markdown",
   "metadata": {},
   "source": [
    "- Task 4: Compare the results of Task 3 with Task 1 and discuss the comparison. (4 marks)\n",
    "    "
   ]
  },
  {
   "cell_type": "code",
   "execution_count": 18,
   "metadata": {},
   "outputs": [],
   "source": [
    "# YOUR CODE HERE\n"
   ]
  },
  {
   "cell_type": "raw",
   "metadata": {},
   "source": [
    "# YOUR WRITTEN ANSWER HERE\n"
   ]
  },
  {
   "cell_type": "markdown",
   "metadata": {},
   "source": [
    "- Task 5: Further exploration (12 marks)\n",
    "   \n",
    "    * Perform Boxplot analysis of both the the Antarctic and Arctic sea ice extents and describe the boxplots and discuss the comparison of the two. (6 marks)\n",
    "    \n",
    "    * Perform both one-sample (for Antartic sea ice extent with known value 1.0x10^7 square kilometers) and two-sample T-tests. (6 marks) **Hints** (a) The Lecture note 3 may be helpful (for example see page 49 regarding the definition); (b) Announce some descriptive stats on your data and explain what they mean in the context of this dataset.\n",
    "    "
   ]
  },
  {
   "cell_type": "code",
   "execution_count": 19,
   "metadata": {},
   "outputs": [],
   "source": [
    "# YOUR CODE HERE\n"
   ]
  },
  {
   "cell_type": "raw",
   "metadata": {},
   "source": [
    "# YOUR WRITTEN ANSWER HERE\n"
   ]
  },
  {
   "cell_type": "markdown",
   "metadata": {},
   "source": [
    "******\n",
    "## Q3: Linear Regression\n",
    "\n",
    "The exciting stage is here! Your task is to create several Regression Models in this section. The goal is to build useful models (keep in mind that \"All models are wrong, but some are useful\", a quote by George Box) for forecasting the evolution of the sea ice extent. For this purpose and for simplicity, we focus on Antarctic region (only use data from the year 1980 to 2022 for the Antarctic sea ice except for Task 5 below). Herein, we use the data generated in Task 5.1. Specifically, the tasks are below.\n",
    "\n",
    "\n",
    "- Task 1: Use the data from the year 1980 to 2021 and build a linear regression model for the Antarctic sea ice extent. Specifically, \n",
    "\n",
    "    - The input (x-axis) of the model should be time (the j-th day since the first day in 01/01/1980) and the output is the predicted Antarctic sea ice extent, y-axis, for a given time/date). (4 marks)\n",
    "    \n",
    "    - Visualise the model: in a scatter plot of the data from 1980 to 2021, draw the linear regression modeled line. (4 marks)\n",
    "    \n",
    "    - Apply the model to predict the sea ice extend for the year of 2022. (2 marks)\n",
    "    \n",
    "    - Visualise and plot the comparision of the predicted values of 2022 with the actual values from the data. (4 marks)\n",
    "    \n",
    "    - Calculate the root mean squared error and R-squared value of the predicted values of 2022. (2 marks)"
   ]
  },
  {
   "cell_type": "code",
   "execution_count": 20,
   "metadata": {},
   "outputs": [],
   "source": [
    "# YOUR CODE HERE\n"
   ]
  },
  {
   "cell_type": "raw",
   "metadata": {},
   "source": [
    "# YOUR WRITTEN ANSWER HERE\n"
   ]
  },
  {
   "cell_type": "markdown",
   "metadata": {},
   "source": [
    "- Task 2: Perform the same study as above but build four linear regression models for each year where one for each season in the year (In Australia: December to February is summer; March to May is autumn; June to August is winter; and September to November is spring. **There are only four seasons**). (8 marks: the marks in each of the five parts in Task 1 above are halved) \n",
    "\n",
    "    **Requirements and hints are**\n",
    "\n",
    "    - Your model shall consists of line segments. Specifically, there should be four lines in each year (build a linear regression model for each season). Thus, in total, there should be 42*4=168 line segments. \n",
    "    \n",
    "    - For better visualisation of your model, you may plot each of these line segments with one color for one season. \n",
    "    \n",
    "    - In order to make a prediction about the extent of sea ice in 2022, we must use 168 line segments from the years 1980 to 2021 to create four line segments for 2022. To achieve this, we must determine the slopes and y-intercepts of these four line segments for 2022 using linear regression analysis. For example, we can use the 42 slopes of the lines of Springs over 1980 to 2021 to create a linear regression model to predict the slope of the line for Spring 2022."
   ]
  },
  {
   "cell_type": "code",
   "execution_count": 21,
   "metadata": {},
   "outputs": [],
   "source": [
    "# YOUR CODE HERE\n"
   ]
  },
  {
   "cell_type": "raw",
   "metadata": {},
   "source": [
    "# YOUR WRITTEN ANSWER HERE\n"
   ]
  },
  {
   "cell_type": "markdown",
   "metadata": {},
   "source": [
    "- Task 3: Perform the same study as above (taking both Tasks 1 and 2 into consideration) but build 12 linear regression models for each year where one for each month in the year (8 marks: the marks in each of the five parts in Task 1 above are halved.)"
   ]
  },
  {
   "cell_type": "code",
   "execution_count": 22,
   "metadata": {},
   "outputs": [],
   "source": [
    "# YOUR CODE HERE\n"
   ]
  },
  {
   "cell_type": "raw",
   "metadata": {},
   "source": [
    "# YOUR WRITTEN ANSWER HERE\n"
   ]
  },
  {
   "cell_type": "markdown",
   "metadata": {},
   "source": [
    "- Task 4: Compare and discuss the performance of models developed in Task 1, 2, and 3. (4 marks)"
   ]
  },
  {
   "cell_type": "code",
   "execution_count": 23,
   "metadata": {},
   "outputs": [],
   "source": [
    "# YOUR CODE HERE\n"
   ]
  },
  {
   "cell_type": "raw",
   "metadata": {},
   "source": [
    "# YOUR WRITTEN ANSWER HERE\n"
   ]
  },
  {
   "cell_type": "markdown",
   "metadata": {},
   "source": [
    "- Task 5 (for bonus marks): Be creative and develop your own models using the data until 2021 and apply it to predict the sea ice extent of the year of 2022. The goal is to develop a model which gives smaller root mean squared errors than those from the models developed above. You can use Arctic data here if it helps (only for this Task in Q3). (5 bonus marks)"
   ]
  },
  {
   "cell_type": "code",
   "execution_count": 24,
   "metadata": {},
   "outputs": [],
   "source": [
    "# YOUR CODE HERE\n"
   ]
  },
  {
   "cell_type": "raw",
   "metadata": {},
   "source": [
    "# YOUR WRITTEN ANSWER HERE\n"
   ]
  }
 ],
 "metadata": {
  "kernelspec": {
   "display_name": "Python 3 (ipykernel)",
   "language": "python",
   "name": "python3"
  },
  "language_info": {
   "codemirror_mode": {
    "name": "ipython",
    "version": 3
   },
   "file_extension": ".py",
   "mimetype": "text/x-python",
   "name": "python",
   "nbconvert_exporter": "python",
   "pygments_lexer": "ipython3",
   "version": "3.9.13"
  }
 },
 "nbformat": 4,
 "nbformat_minor": 4
}
