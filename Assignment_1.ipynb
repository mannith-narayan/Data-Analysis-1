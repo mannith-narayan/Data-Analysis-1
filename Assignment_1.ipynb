{
 "cells": [
  {
   "cell_type": "markdown",
   "metadata": {
    "deletable": true,
    "tags": []
   },
   "source": [
    "<h1 align='center'> COMP2420/COMP6420 - Introduction to Data Management,<br/> Analysis and Security</h1>\n",
    "\n",
    "<h1 align='center'> Assignment - 1</h1>\n",
    "\n",
    "-----\n",
    "<br/>\n",
    "\n",
    "## Grading\n",
    "\n",
    "|**Maximum Marks**         |**100**\n",
    "|--------------------------|--------\n",
    "|  **Weight**              |  **15% of the Total Course Grade**\n",
    "|  **Submission deadline** |  **11:59PM, Friday, March 31**\n",
    "|  **Submission mode**     |  **Electronic, Using GitLab**\n",
    "|  **Penalty**             |  **100% after the deadline**\n",
    "\n",
    "\n",
    "## Learning Outcomes\n",
    "The following learning outcomes apply to this piece:\n",
    "- **LO3** - Demonstrate basic knowledge and understanding of descriptive and predictive data analysis methods, optimization and search, and knowledge representation.\n",
    "- **LO4** - Formulate and extract descriptive and predictive statistics from data\n",
    "- **LO5** - Analyse and interpret results from descriptive and predictive data analysis\n",
    "- **LO6** - Apply their knowledge to a given problem domain and articulate potential data analysis problems\n",
    "\n",
    "\n",
    "## Submission\n",
    "\n",
    "You need to submit the following items:\n",
    "- The notebook `Assignment_1_2023_uXXXXXXX.ipynb` (where uXXXXXXX is your uid) \n",
    "- A completed `statement-of-originality.md`, found in the root of the forked gitlab repo.\n",
    "\n",
    "Submissions are performed by pushing to your forked GitLab assignment repository. For a refresher on forking and cloning repositories, please refer to `Lab 1`. Issues with your Git repo (with the exception of a CECS/ANU wide Gitlab failure) will not be considered as grounds for an extension. You will also need to add your details below. Any variation of this will result in a `zero mark`.\n",
    "\n",
    "***** \n",
    "\n",
    "### Notes:\n",
    "\n",
    "* It is strongly advised to read the whole assignment before attempting it and have at least a cursory glance at the dataset in order to gauge the requirements and understand what you need to do as a bigger picture.\n",
    "* Backup your assignment to your Gitlab repo often. \n",
    "* Extra reading and research will be required. Make sure you include all references in your Statement of Originality. If this does not occur, at best marks will be deduced. Otherwise, academic misconduct processes will be followed.\n",
    "* For answers requiring free form written text, use the designated cells denoted by `YOUR WRITTEN ANSWER HERE` -- double click on the cell to write inside them.\n",
    "* For all coding questions please write your code after the comment `YOUR CODE HERE`. Remember to document your code using comments and doc strings as appropriate.\n",
    "* In the process of testing your code, you can insert more cells or use print statements for debugging, but when submitting your file remember to remove these cells and calls respectively. You are welcome to add additional cells to the final submission, provided they add value to the overall piece.\n",
    "* You will be marked on **correctness** and **readability** of your code, if your marker can't understand your code your marks may be deducted.\n",
    "* Comment your code.\n",
    "* Before submitting, restart the kernel in Jupyter Lab and re-run all cells before submitting your code. This will ensure the namespace has not kept any old variables, as these won't come across in submission and your code will not run. Without this, you could lose a significant number of marks.\n",
    "\n",
    "*****\n"
   ]
  },
  {
   "cell_type": "markdown",
   "metadata": {},
   "source": [
    "### Enter your Student ID below:"
   ]
  },
  {
   "cell_type": "raw",
   "metadata": {},
   "source": [
    "Student ID here"
   ]
  },
  {
   "cell_type": "markdown",
   "metadata": {},
   "source": [
    "## Introduction\n",
    "\n",
    "The study of sea ice in polar regions is of great importance due to the critical role that sea ice plays in global climate and ecosystem health. Sea ice covers vast expanses of the Arctic and Antarctic oceans, acting as a reflective surface that helps regulate the Earth's temperature by reflecting sunlight back into space. As such, changes in sea ice cover (herein, we refer it to as sea ice extent) can have significant impacts on global climate patterns and ocean currents. Sea ice also provides a critical habitat for a wide range of Arctic and Antarctic marine species, including krill, polar bears, and various species of seals. The health and abundance of these species are directly linked to the extent and duration of sea ice cover extent. Furthermore, sea ice serves as a major transportation route for commercial shipping and resource extraction. Given these factors, the study of sea ice in polar regions is essential for understanding and mitigating the impacts of climate change and ensuring the long-term sustainability of polar ecosystems and human societies. \n",
    "\n",
    "The primary focus of this assignment is to conduct a some basic data analysis of sea ice extent in the polar region. The analysis will be centered on the study of a given data set (SeaIceExtent.csv). Through this study, the goal is to gain a preliminary comprehension of how sea ice extent is changing in the polar regions over time. The analysis will involve the use of statistical tools and techniques to identify trends, patterns, and anomalies in the data, as well as to develop models, particularly, linear regression models, that can help predict future changes in sea ice cover. The findings of this study will be potentially valuable in informing policy decisions related to climate change mitigation and adaptation, as well as in guiding the development of sustainable strategies for managing polar resources and ecosystems. Overall, this assignment represents an important effort to contribute to our understanding of one of the most critical and rapidly changing aspects of the Earth's climate system. With all this in mind, I hope you find joy in engaging with this assignment beyond simply completing it.\n",
    "\n"
   ]
  },
  {
   "cell_type": "markdown",
   "metadata": {},
   "source": [
    "*******************\n",
    "## Package Imports"
   ]
  },
  {
   "cell_type": "code",
   "execution_count": null,
   "metadata": {},
   "outputs": [],
   "source": [
    "# Common Imports\n",
    "import numpy as np\n",
    "import pandas as pd\n",
    "from scipy import stats\n",
    "from sklearn.linear_model import LinearRegression\n",
    "import matplotlib.pyplot as plt\n",
    "from matplotlib import cm\n",
    "import seaborn as sns\n",
    "plt.style.use('seaborn')\n",
    "%matplotlib inline"
   ]
  },
  {
   "cell_type": "code",
   "execution_count": 1,
   "metadata": {},
   "outputs": [],
   "source": [
    "# Import additional modules here as required\n",
    "#\n",
    "# Note that only modules in the standard Anaconda distribution are allowed. \n",
    "# If you need to install it manually, it is not an accepted package.\n",
    "#"
   ]
  },
  {
   "cell_type": "markdown",
   "metadata": {},
   "source": [
    "**Several notes on printing and plotting**\n",
    "* Throughout this assignment, when writing codes to print, your codes should <u>**include the relevant units and/or give relevant description**</u> of what you are printing. \n",
    "\n",
    "* A professional plot typically has the following characteristics:\n",
    "\n",
    "    * Clear and concise labeling: A professional plot should have clear and concise labeling of the x and y axes, as well as a clear title that conveys the purpose of the plot.\n",
    "\n",
    "    * Appropriate scales: The scales on the x and y axes should be appropriate for the data being presented. This means that the scales should be chosen so that the data is not too compressed or stretched out, and so that important features of the data are easily visible.\n",
    "\n",
    "    * Appropriate plot type: The plot type should be appropriate for the data being presented. For example, if the data is continuous, a line plot or a scatter plot may be appropriate. If the data is categorical, a bar chart or a pie chart may be more appropriate.\n",
    "\n",
    "    * Clarity: A professional plot should be visually clear and easy to interpret. This means that unnecessary elements should be removed, colors should be used judiciously, and the plot should be free of clutter.\n",
    "\n",
    "    * Consistency: A professional plot should be consistent in its formatting with other plots that may be presented in the same report. This means that font sizes, line widths, and colors should be consistent across all plots.\n"
   ]
  },
  {
   "cell_type": "markdown",
   "metadata": {},
   "source": [
    "****\n",
    "## Q1: Loading and Basic Analysis of the Data\n",
    "\n",
    "Briefly state your work on each Task and justify your decisions. For example, when using an existing function, briefly state what the function does (e.g., a mean function calculates the average values of the ensambles). \n",
    "\n",
    "\n",
    "#### Task 1: Load the data file SeaIceExtent.csv into a Pandas DataFrame and make it ready for use. (4 marks)\n",
    "\n",
    "**Hints**\n",
    "* You might want to drop unnecessary or rededundant columns and/or rows.\n",
    "\n",
    "* You might want to rename some columns and/or rows.\n",
    "\n",
    "#### Task 2: Data basic visualisation \n",
    "\n",
    "    * Task 2.1: Access the data and print the Antarctic and Arctic sea ice extents of week 2 of S1 2023 (February 27 to March 3, 2023). (2 marks)\n",
    "\n",
    "    * Task 2.2: In one figure, plot the daily trend of the Antarctic and Arctic sea ice extents.  (4 marks)\n",
    "\n",
    "#### Task 3: Data basic processing\n",
    "    \n",
    "    * Task 3.1: Identify the missing dates (the dates when the sea ice extents are not available): Store the total number of dates of each year in a table where each row specifies the year (column 1) and the total number of dates (column 2). Print the table. (4 marks)\n",
    "    \n",
    "    * Task 3.2: Evaluate the sea ice extent monthly averages; then similar to Task 2.2, in one figure, plot the monthly trend of the Antarctic and Arctic sea ice extents. (4 marks)\n",
    "\n",
    "#### Task 4: Study the central tendency of the data\n",
    "\n",
    "Recall from Lecture 3 that the most common measures of centre tendency are the 3M: Mode, Median, and\n",
    "Mean. We study these 3Ms one-by-one as below.\n",
    "\n",
    "    * Task 4.1: Calculate and print the mode of both the Antarctic and Arctic sea ice extents. For this calculation, round both the Antarctic and Arctic sea ice extents to the nearest million. (4 marks)\n",
    "\n",
    "    * Task 4.2: Calculate and print the median of both the Antarctic and Arctic sea ice extents (2 marks)\n",
    "\n",
    "    * Task 4.3: Calculate and print the mean of both the Antarctic and Arctic sea ice extents (2 marks)\n",
    "\n",
    "#### Task 5: Study the variability of the data\n",
    "\n",
    "    * Task 5.1: Create two new columns to store the sums of the missing extents and the corresponding polar regions (adding Missing Antarctic to Antarctic; adding Missing Arctic to Arctic). (2 marks) \n",
    "\n",
    "    * Task 5.2: Using the two new columns, calculate and print the range of both the Antarctic and Arctic sea ice extents (2 marks)\n",
    "\n",
    "    * Task 5.3: Using the two new columns, calculate and print the variance of both the Antarctic and Arctic sea ice extents (2 marks)\n",
    "\n",
    "    * Task 5.5: Using the two new columns, calculate and print the standard deviation of both the Antarctic and Arctic sea ice extents (2 marks)\n",
    "\n"
   ]
  },
  {
   "cell_type": "code",
   "execution_count": null,
   "metadata": {},
   "outputs": [],
   "source": [
    "# YOUR CODE HERE\n",
    "\n",
    "# (ADD ANY ADDITIONAL CELLS AS REQUIRED; Same below)"
   ]
  },
  {
   "cell_type": "raw",
   "metadata": {},
   "source": [
    "# YOUR WRITTEN ANSWER HERE"
   ]
  },
  {
   "cell_type": "markdown",
   "metadata": {},
   "source": [
    "******\n",
    "## Q2: EXPLORATORY DATA ANALYSIS\n",
    "\n",
    "In this section you are expected to do an exploratory data analysis on the dataset. Herein, we use the data generated in Task 5.1. \n",
    "\n",
    "- Task 1: Explore the correlation of the Antarctic and Arctic sea ice extents. You need to use both plot/plots and correlation test. (6 marks)\n",
    "\n",
    "- Task 2: Shift the Arctic sea ice extent **forward** by six months (for example, this shift moves the date 15/01/2000 to 15/07/2000) and process your data appriopriately so that the dates match (4 marks)\n",
    "\n",
    "    **Hints**: (a) basically you want to remove the first six months of the Antarctic sea ice extent and the last six months so that the time window matches; (b) there are dates where either Antarctic sea ice extent or Arctic sea ice extent is missing; remove these rows to match. \n",
    "\n",
    "- Task 3: Explore the correlation of the new data set. (4 marks) \n",
    "    \n",
    "- Task 4: Compare the results of Task 3 with Task 1 and discuss the comparison. (4 marks)\n",
    "    \n",
    "\n",
    "- Task 5: Further exploration (12 marks)\n",
    "   \n",
    "    * Perform Boxplot analysis of both the the Antarctic and Arctic sea ice extents and describe the boxplots and discuss the comparison of the two. (6 marks)\n",
    "    \n",
    "    * Perform both one-sample (for Antartic sea ice extent with known value 1.0x10^7 square kilometers) and two-sample T-tests. (6 marks) **Hints** (a) The Lecture note 3 may be helpful (for example see page 49 regarding the definition); (b) Announce some descriptive stats on your data and explain what they mean in the context of this dataset.\n",
    "    \n"
   ]
  },
  {
   "cell_type": "code",
   "execution_count": null,
   "metadata": {},
   "outputs": [],
   "source": [
    "# YOUR CODE HERE\n",
    "\n",
    "\n"
   ]
  },
  {
   "cell_type": "raw",
   "metadata": {},
   "source": [
    "# YOUR WRITTEN ANSWER HERE"
   ]
  },
  {
   "cell_type": "markdown",
   "metadata": {},
   "source": [
    "******\n",
    "## Q3: Linear Regression\n",
    "\n",
    "The exciting stage is here! Your task is to create several Regression Models in this section. The goal is to build useful models (keep in mind that \"All models are wrong, but some are useful\", a quote by George Box) for forecasting the evolution of the sea ice extent. For this purpose and for simplicity, we focus on Antarctic region (only use data from the year 1980 to 2022 for the Antarctic sea ice except for Task 5 below). Herein, we use the data generated in Task 5.1. Specifically, the tasks are below.\n",
    "\n",
    "\n",
    "- Task 1: Use the data from the year 1980 to 2021 and build a linear regression model for the Antarctic sea ice extent. Specifically, \n",
    "\n",
    "    - The input (x-axis) of the model should be time (the j-th day since the first day in 01/01/1980) and the output is the predicted Antarctic sea ice extent, y-axis, for a given time/date). (4 marks)\n",
    "    \n",
    "    - Visualise the model: in a scatter plot of the data from 1980 to 2021, draw the linear regression modeled line. (4 marks)\n",
    "    \n",
    "    - Apply the model to predict the sea ice extend for the year of 2022. (2 marks)\n",
    "    \n",
    "    - Visualise and plot the comparision of the predicted values of 2022 with the actual values from the data. (4 marks)\n",
    "    \n",
    "    - Calculate the root mean squared error and R-squared value of the predicted values of 2022. (2 marks)\n",
    "\n",
    "- Task 2: Perform the same study as above but build four linear regression models for each year where one for each season in the year (In Australia: December to February is summer; March to May is autumn; June to August is winter; and September to November is spring. **There are only four seasons**). (8 marks: the marks in each of the five parts in Task 1 above are halved) \n",
    "\n",
    "    **Requirements and hints are**\n",
    "\n",
    "    - Your model shall consists of line segments. Specifically, there should be four lines in each year (build a linear regression model for each season). Thus, in total, there should be 42*4=168 line segments. \n",
    "    \n",
    "    - For better visualisation of your model, you may plot each of these line segments with one color for one season. \n",
    "    \n",
    "    - In order to make a prediction about the extent of sea ice in 2022, we must use 168 line segments from the years 1980 to 2021 to create four line segments for 2022. To achieve this, we must determine the slopes and y-intercepts of these four line segments for 2022 using linear regression analysis. For example, we can use the 42 slopes of the lines of Springs over 1980 to 2021 to create a linear regression model to predict the slope of the line for Spring 2022.\n",
    "\n",
    "- Task 3: Perform the same study as above (taking both Tasks 1 and 2 into consideration) but build 12 linear regression models for each year where one for each month in the year (8 marks: the marks in each of the five parts in Task 1 above are halved.)\n",
    "\n",
    "- Task 4: Compare and discuss the performance of models developed in Task 1, 2, and 3. (4 marks)\n",
    "\n",
    "- Task 5 (for bonus marks): Be creative and develop your own models using the data until 2021 and apply it to predict the sea ice extent of the year of 2022. The goal is to develop a model which gives smaller root mean squared errors than those from the models developed above. You can use Arctic data here if it helps (only for this Task in Q3). (5 bonus marks)\n"
   ]
  },
  {
   "cell_type": "code",
   "execution_count": null,
   "metadata": {},
   "outputs": [],
   "source": [
    "# YOUR CODE HERE\n",
    "\n",
    "# (ADD ANY ADDITIONAL CELLS AS REQUIRED)\n",
    "\n"
   ]
  },
  {
   "cell_type": "raw",
   "metadata": {},
   "source": [
    "# YOUR WRITTEN ANSWER HERE"
   ]
  }
 ],
 "metadata": {
  "kernelspec": {
   "display_name": "Python 3 (ipykernel)",
   "language": "python",
   "name": "python3"
  },
  "language_info": {
   "codemirror_mode": {
    "name": "ipython",
    "version": 3
   },
   "file_extension": ".py",
   "mimetype": "text/x-python",
   "name": "python",
   "nbconvert_exporter": "python",
   "pygments_lexer": "ipython3",
   "version": "3.9.13"
  }
 },
 "nbformat": 4,
 "nbformat_minor": 4
}
