{
 "cells": [
  {
   "cell_type": "markdown",
   "metadata": {
    "tags": []
   },
   "source": [
    "<h1 align='center'> COMP2420/COMP6420 - Introduction to Data Management,<br/> Analysis and Security</h1>\n",
    "\n",
    "<h1 align='center'> Assignment - 1</h1>\n",
    "\n",
    "-----\n",
    "<br/>\n",
    "\n",
    "## Grading\n",
    "\n",
    "|**Maximum Marks**         |**100**\n",
    "|--------------------------|--------\n",
    "|  **Weight**              |  **15% of the Total Course Grade**\n",
    "|  **Submission deadline** |  **11:59PM, Friday, March 31**\n",
    "|  **Submission mode**     |  **Electronic, Using GitLab**\n",
    "|  **Penalty**             |  **100% after the deadline**\n",
    "\n",
    "\n",
    "## Learning Outcomes\n",
    "The following learning outcomes apply to this piece:\n",
    "- **LO3** - Demonstrate basic knowledge and understanding of descriptive and predictive data analysis methods, optimization and search, and knowledge representation.\n",
    "- **LO4** - Formulate and extract descriptive and predictive statistics from data\n",
    "- **LO5** - Analyse and interpret results from descriptive and predictive data analysis\n",
    "- **LO6** - Apply their knowledge to a given problem domain and articulate potential data analysis problems\n",
    "\n",
    "\n",
    "## Submission\n",
    "\n",
    "You need to submit the following items:\n",
    "- The notebook `Assignment_1_2023_uXXXXXXX.ipynb` (where uXXXXXXX is your uid) \n",
    "- A completed `statement-of-originality.md`, found in the root of the forked gitlab repo.\n",
    "\n",
    "Submissions are performed by pushing to your forked GitLab assignment repository. For a refresher on forking and cloning repositories, please refer to `Lab 1`. Issues with your Git repo (with the exception of a CECS/ANU wide Gitlab failure) will not be considered as grounds for an extension. You will also need to add your details below. Any variation of this will result in a `zero mark`.\n",
    "\n",
    "***** \n",
    "\n",
    "### Notes:\n",
    "\n",
    "* It is strongly advised to read the whole assignment before attempting it and have at least a cursory glance at the dataset in order to gauge the requirements and understand what you need to do as a bigger picture.\n",
    "* Backup your assignment to your Gitlab repo often. \n",
    "* Extra reading and research will be required. Make sure you include all references in your Statement of Originality. If this does not occur, at best marks will be deduced. Otherwise, academic misconduct processes will be followed.\n",
    "* For answers requiring free form written text, use the designated cells denoted by `YOUR WRITTEN ANSWER HERE` -- double click on the cell to write inside them. Leave it blank if you don't have anything to write.\n",
    "* For all coding questions please write your code after the comment `YOUR CODE HERE`. Remember to document your code using comments and doc strings as appropriate.\n",
    "* In the process of testing your code, you can insert more cells or use print statements for debugging, but when submitting your file remember to remove these cells and calls respectively. You are welcome to add additional cells to the final submission, provided they add value to the overall piece.\n",
    "* You will be marked on **correctness** and **readability** of your code, if your marker can't understand your code your marks may be deducted.\n",
    "* Comment your code.\n",
    "* Before submitting, restart the kernel in Jupyter Lab and re-run all cells before submitting your code. This will ensure the namespace has not kept any old variables, as these won't come across in submission and your code will not run. Without this, you could lose a significant number of marks.\n",
    "\n",
    "*****\n"
   ]
  },
  {
   "cell_type": "markdown",
   "metadata": {},
   "source": [
    "### Enter your Student ID below:"
   ]
  },
  {
   "cell_type": "raw",
   "metadata": {},
   "source": [
    "u7423116\n"
   ]
  },
  {
   "cell_type": "markdown",
   "metadata": {},
   "source": [
    "## Introduction\n",
    "\n",
    "The study of sea ice in polar regions is of great importance due to the critical role that sea ice plays in global climate and ecosystem health. Sea ice covers vast expanses of the Arctic and Antarctic oceans, acting as a reflective surface that helps regulate the Earth's temperature by reflecting sunlight back into space. As such, changes in sea ice cover (herein, we refer it to as sea ice extent) can have significant impacts on global climate patterns and ocean currents. Sea ice also provides a critical habitat for a wide range of Arctic and Antarctic marine species, including krill, polar bears, and various species of seals. The health and abundance of these species are directly linked to the extent and duration of sea ice cover extent. Furthermore, sea ice serves as a major transportation route for commercial shipping and resource extraction. Given these factors, the study of sea ice in polar regions is essential for understanding and mitigating the impacts of climate change and ensuring the long-term sustainability of polar ecosystems and human societies. \n",
    "\n",
    "The primary focus of this assignment is to conduct a some basic data analysis of sea ice extent in the polar region. The analysis will be centered on the study of a given data set (SeaIceExtent.csv). Through this study, the goal is to gain a preliminary comprehension of how sea ice extent is changing in the polar regions over time. The analysis will involve the use of statistical tools and techniques to identify trends, patterns, and anomalies in the data, as well as to develop models, particularly, linear regression models, that can help predict future changes in sea ice cover. The findings of this study will be potentially valuable in informing policy decisions related to climate change mitigation and adaptation, as well as in guiding the development of sustainable strategies for managing polar resources and ecosystems. Overall, this assignment represents an important effort to contribute to our understanding of one of the most critical and rapidly changing aspects of the Earth's climate system. With all this in mind, I hope you find joy in engaging with this assignment beyond simply completing it.\n",
    "\n"
   ]
  },
  {
   "cell_type": "markdown",
   "metadata": {},
   "source": [
    "*******************\n",
    "## Package Imports"
   ]
  },
  {
   "cell_type": "code",
   "execution_count": 238,
   "metadata": {},
   "outputs": [],
   "source": [
    "# Common Imports\n",
    "import numpy as np\n",
    "import pandas as pd\n",
    "from scipy import stats\n",
    "from sklearn.linear_model import LinearRegression\n",
    "import matplotlib.pyplot as plt\n",
    "from matplotlib import cm\n",
    "import seaborn as sns\n",
    "plt.style.use('seaborn')\n",
    "%matplotlib inline"
   ]
  },
  {
   "cell_type": "code",
   "execution_count": 239,
   "metadata": {},
   "outputs": [],
   "source": [
    "# Import additional modules here as required\n",
    "#\n",
    "# Note that only modules in the standard Anaconda distribution are allowed. \n",
    "# If you need to install it manually, it is not an accepted package.\n",
    "#"
   ]
  },
  {
   "cell_type": "markdown",
   "metadata": {},
   "source": [
    "**Several notes on printing and plotting**\n",
    "* Throughout this assignment, when writing codes to print, your codes should <u>**include the relevant units and/or give relevant description**</u> of what you are printing. \n",
    "\n",
    "* A professional plot typically has the following characteristics:\n",
    "\n",
    "    * Clear and concise labeling: A professional plot should have clear and concise labeling of the x and y axes, as well as a clear title that conveys the purpose of the plot.\n",
    "\n",
    "    * Appropriate scales: The scales on the x and y axes should be appropriate for the data being presented. This means that the scales should be chosen so that the data is not too compressed or stretched out, and so that important features of the data are easily visible.\n",
    "\n",
    "    * Appropriate plot type: The plot type should be appropriate for the data being presented. For example, if the data is continuous, a line plot or a scatter plot may be appropriate. If the data is categorical, a bar chart or a pie chart may be more appropriate.\n",
    "\n",
    "    * Clarity: A professional plot should be visually clear and easy to interpret. This means that unnecessary elements should be removed, colors should be used judiciously, and the plot should be free of clutter.\n",
    "\n",
    "    * Consistency: A professional plot should be consistent in its formatting with other plots that may be presented in the same report. This means that font sizes, line widths, and colors should be consistent across all plots.\n"
   ]
  },
  {
   "cell_type": "markdown",
   "metadata": {},
   "source": [
    "****\n",
    "## Q1: Loading and Basic Analysis of the Data\n",
    "\n",
    "Briefly state your work on each Task and justify your decisions. For example, when using an existing function, briefly state what the function does (e.g., a mean function calculates the average values of the ensambles). \n",
    "\n",
    "\n",
    "#### Task 1: Load the data file SeaIceExtent.csv into a Pandas DataFrame and make it ready for use. (4 marks)\n",
    "\n",
    "**Hints:**\n",
    "* You might want to drop unnecessary or rededundant columns and/or rows.\n",
    "\n",
    "* You might want to rename some columns and/or rows."
   ]
  },
  {
   "cell_type": "code",
   "execution_count": 295,
   "metadata": {},
   "outputs": [],
   "source": [
    "iceExtent = pd.read_csv('SeaIceExtent.csv')\n",
    "iceExtent.rename(columns={' Month':'Month',' Day':'Day',\"     Extent (Antarctic)\":'Extent (Antarctic)',\n",
    "                         \"    Missing (Antarctic)\":'Missing (Antarctic)',\"     Extent (Arctic)\":'Extent (Arctic)',\n",
    "                         \"    Missing (Arctic)\":'Missing (Arctic)'},inplace = True)\n",
    "\n",
    "#iceExtent['Date'] = iceExtent.apply(lambda row: \"-\".join([str(row['Year']), str(row['Month']), str(row['Day'])]), axis=1)\n",
    "iceExtent['Year']=pd.to_numeric(iceExtent['Year'],errors = 'coerce')\n",
    "iceExtent['Month']=pd.to_numeric(iceExtent['Month'],errors = 'coerce')\n",
    "iceExtent['Day']=pd.to_numeric(iceExtent['Day'],errors = 'coerce')\n",
    "iceExtent['Extent (Antarctic)']=pd.to_numeric(iceExtent['Extent (Antarctic)'],errors = 'coerce')\n",
    "iceExtent['Extent (Arctic)']=pd.to_numeric(iceExtent['Extent (Arctic)'],errors = 'coerce')\n",
    "iceExtent['Missing (Antarctic)']=pd.to_numeric(iceExtent['Missing (Antarctic)'],errors = 'coerce')\n",
    "iceExtent['Missing (Arctic)']=pd.to_numeric(iceExtent['Missing (Arctic)'],errors = 'coerce')\n",
    "\n",
    "\n",
    "iceExtent['Date'] = pd.to_datetime(iceExtent[['Year', 'Month', 'Day']])\n",
    "\n",
    "iceExtent.drop(['Unnamed: 7',' Source Data','Month','Day','Year'],axis = 1,inplace = True)\n",
    "iceExtent = iceExtent.iloc[1:]\n",
    "iceExtent = iceExtent.reset_index(drop = True)\n",
    "iceExtent = iceExtent[['Date','Extent (Antarctic)','Missing (Antarctic)','Extent (Arctic)','Missing (Arctic)']]\n"
   ]
  },
  {
   "cell_type": "raw",
   "metadata": {},
   "source": [
    "1. Dropped the empty  and 'Source Data' column as they are redundant.\n",
    "(Source : https://www.datasciencelearner.com/drop-unnamed-column-pandas/)\n",
    "2. Removed the first row that contained units.\n",
    "3. Reset the index back to 0 to make understanding the code easier.\n",
    "4. Renamed columns\n",
    "(Source : https://pandas.pydata.org/docs/reference/api/pandas.DataFrame.rename.html)\n",
    "5.Added a date column and changed the indices of columns\n",
    "(Source : https://stackoverflow.com/questions/23668427/pandas-three-way-joining-multiple-dataframes-on-columns)"
   ]
  },
  {
   "cell_type": "markdown",
   "metadata": {},
   "source": [
    "#### Task 2: Data basic visualisation \n",
    "\n",
    "- Task 2.1: Access the data and print the Antarctic and Arctic sea ice extents of week 2 of S1 2023 (February 27 to March 3, 2023). (2 marks)\n",
    "    "
   ]
  },
  {
   "cell_type": "code",
   "execution_count": 296,
   "metadata": {},
   "outputs": [
    {
     "data": {
      "text/html": [
       "<div>\n",
       "<style scoped>\n",
       "    .dataframe tbody tr th:only-of-type {\n",
       "        vertical-align: middle;\n",
       "    }\n",
       "\n",
       "    .dataframe tbody tr th {\n",
       "        vertical-align: top;\n",
       "    }\n",
       "\n",
       "    .dataframe thead th {\n",
       "        text-align: right;\n",
       "    }\n",
       "</style>\n",
       "<table border=\"1\" class=\"dataframe\">\n",
       "  <thead>\n",
       "    <tr style=\"text-align: right;\">\n",
       "      <th></th>\n",
       "      <th>Date</th>\n",
       "      <th>Extent (Antarctic)</th>\n",
       "      <th>Missing (Antarctic)</th>\n",
       "      <th>Extent (Arctic)</th>\n",
       "      <th>Missing (Arctic)</th>\n",
       "    </tr>\n",
       "  </thead>\n",
       "  <tbody>\n",
       "    <tr>\n",
       "      <th>14544</th>\n",
       "      <td>2023-02-27</td>\n",
       "      <td>1.856</td>\n",
       "      <td>0.0</td>\n",
       "      <td>14.462</td>\n",
       "      <td>0.0</td>\n",
       "    </tr>\n",
       "    <tr>\n",
       "      <th>14545</th>\n",
       "      <td>2023-02-28</td>\n",
       "      <td>1.848</td>\n",
       "      <td>0.0</td>\n",
       "      <td>14.476</td>\n",
       "      <td>0.0</td>\n",
       "    </tr>\n",
       "    <tr>\n",
       "      <th>14546</th>\n",
       "      <td>2023-03-01</td>\n",
       "      <td>1.907</td>\n",
       "      <td>0.0</td>\n",
       "      <td>14.529</td>\n",
       "      <td>0.0</td>\n",
       "    </tr>\n",
       "    <tr>\n",
       "      <th>14547</th>\n",
       "      <td>2023-03-02</td>\n",
       "      <td>1.908</td>\n",
       "      <td>0.0</td>\n",
       "      <td>14.627</td>\n",
       "      <td>0.0</td>\n",
       "    </tr>\n",
       "    <tr>\n",
       "      <th>14548</th>\n",
       "      <td>2023-03-03</td>\n",
       "      <td>1.877</td>\n",
       "      <td>0.0</td>\n",
       "      <td>14.610</td>\n",
       "      <td>0.0</td>\n",
       "    </tr>\n",
       "  </tbody>\n",
       "</table>\n",
       "</div>"
      ],
      "text/plain": [
       "            Date  Extent (Antarctic)  Missing (Antarctic)  Extent (Arctic)  \\\n",
       "14544 2023-02-27               1.856                  0.0           14.462   \n",
       "14545 2023-02-28               1.848                  0.0           14.476   \n",
       "14546 2023-03-01               1.907                  0.0           14.529   \n",
       "14547 2023-03-02               1.908                  0.0           14.627   \n",
       "14548 2023-03-03               1.877                  0.0           14.610   \n",
       "\n",
       "       Missing (Arctic)  \n",
       "14544               0.0  \n",
       "14545               0.0  \n",
       "14546               0.0  \n",
       "14547               0.0  \n",
       "14548               0.0  "
      ]
     },
     "execution_count": 296,
     "metadata": {},
     "output_type": "execute_result"
    }
   ],
   "source": [
    "start_date = iceExtent[iceExtent['Date']=='2023-02-27'] #source pandas cheat-sheet\n",
    "end_date = iceExtent[iceExtent['Date']=='2023-03-03']\n",
    "start_index = start_date.index[0]\n",
    "end_index = end_date.index[0]\n",
    "s1_week2 = iceExtent[start_index:end_index+1]\n",
    "s1_week2"
   ]
  },
  {
   "cell_type": "raw",
   "metadata": {},
   "source": [
    "# YOUR WRITTEN ANSWER HERE\n"
   ]
  },
  {
   "cell_type": "markdown",
   "metadata": {},
   "source": [
    "- Task 2.2: In one figure, plot the daily trend of the Antarctic and Arctic sea ice extents.  (4 marks)\n",
    "    "
   ]
  },
  {
   "cell_type": "code",
   "execution_count": 297,
   "metadata": {
    "scrolled": true
   },
   "outputs": [
    {
     "data": {
      "image/png": "[encoded data removed]",
      "text/plain": [
       "<Figure size 432x288 with 2 Axes>"
      ]
     },
     "metadata": {
      "needs_background": "light"
     },
     "output_type": "display_data"
    }
   ],
   "source": [
    "days = ['Mon','Tue','Wed','Thu','Fri']\n",
    "antarctic_extent = s1_week2['Extent (Antarctic)'].tolist()\n",
    "antarctic_extent = [float(x) for x in antarctic_extent]\n",
    "arctic_extent = s1_week2['Extent (Arctic)'].tolist()\n",
    "arctic_extent = [float(x) for x in arctic_extent]\n",
    "\n",
    "plt.subplot(1,2,1)\n",
    "plt.plot(days,antarctic_extent)\n",
    "plt.title(\"Antarctic Extent\",size = 14)\n",
    "plt.xlabel(\"Days\")\n",
    "plt.ylabel(\"Sea Ice Extent (10^6 Sq km)\")\n",
    "\n",
    "plt.subplot(1,2,2)\n",
    "plt.plot(days,arctic_extent,color = 'orange')\n",
    "plt.title(\"Arctic Extent\",size = 14)\n",
    "plt.xlabel(\"Days\")\n",
    "plt.ylabel(\"Sea Ice Extent (10^6 Sq km)\")\n",
    "\n",
    "\n",
    "plt.subplots_adjust(wspace=0.8)\n",
    "plt.show()\n",
    "\n"
   ]
  },
  {
   "cell_type": "raw",
   "metadata": {},
   "source": [
    "# YOUR WRITTEN ANSWER HERE\n",
    "\n"
   ]
  },
  {
   "cell_type": "markdown",
   "metadata": {},
   "source": [
    "#### Task 3: Data basic processing\n",
    "    \n",
    "- Task 3.1: Identify the missing dates (the dates when the sea ice extents are not available): Store the total number of dates of each year in a table where each row specifies the year (column 1) and the total number of dates (column 2). Print the table. (4 marks)\n",
    "    "
   ]
  },
  {
   "cell_type": "raw",
   "metadata": {},
   "source": [
    "# YOUR WRITTEN ANSWER HERE\n",
    "(Source : https://pandas.pydata.org/docs/reference/api/pandas.Timestamp.html)\n",
    "(source : https://www.geeksforgeeks.org/check-missing-dates-in-pandas/)"
   ]
  },
  {
   "cell_type": "code",
   "execution_count": 298,
   "metadata": {},
   "outputs": [
    {
     "data": {
      "text/html": [
       "<div>\n",
       "<style scoped>\n",
       "    .dataframe tbody tr th:only-of-type {\n",
       "        vertical-align: middle;\n",
       "    }\n",
       "\n",
       "    .dataframe tbody tr th {\n",
       "        vertical-align: top;\n",
       "    }\n",
       "\n",
       "    .dataframe thead th {\n",
       "        text-align: right;\n",
       "    }\n",
       "</style>\n",
       "<table border=\"1\" class=\"dataframe\">\n",
       "  <thead>\n",
       "    <tr style=\"text-align: right;\">\n",
       "      <th></th>\n",
       "      <th>Year</th>\n",
       "      <th>No. of Missing Dates</th>\n",
       "    </tr>\n",
       "  </thead>\n",
       "  <tbody>\n",
       "    <tr>\n",
       "      <th>1</th>\n",
       "      <td>1978</td>\n",
       "      <td>331</td>\n",
       "    </tr>\n",
       "    <tr>\n",
       "      <th>2</th>\n",
       "      <td>1979</td>\n",
       "      <td>183</td>\n",
       "    </tr>\n",
       "    <tr>\n",
       "      <th>3</th>\n",
       "      <td>1980</td>\n",
       "      <td>183</td>\n",
       "    </tr>\n",
       "    <tr>\n",
       "      <th>4</th>\n",
       "      <td>1981</td>\n",
       "      <td>182</td>\n",
       "    </tr>\n",
       "    <tr>\n",
       "      <th>5</th>\n",
       "      <td>1982</td>\n",
       "      <td>183</td>\n",
       "    </tr>\n",
       "    <tr>\n",
       "      <th>6</th>\n",
       "      <td>1983</td>\n",
       "      <td>182</td>\n",
       "    </tr>\n",
       "    <tr>\n",
       "      <th>7</th>\n",
       "      <td>1984</td>\n",
       "      <td>183</td>\n",
       "    </tr>\n",
       "    <tr>\n",
       "      <th>8</th>\n",
       "      <td>1985</td>\n",
       "      <td>183</td>\n",
       "    </tr>\n",
       "    <tr>\n",
       "      <th>9</th>\n",
       "      <td>1986</td>\n",
       "      <td>182</td>\n",
       "    </tr>\n",
       "    <tr>\n",
       "      <th>10</th>\n",
       "      <td>1987</td>\n",
       "      <td>145</td>\n",
       "    </tr>\n",
       "    <tr>\n",
       "      <th>11</th>\n",
       "      <td>1988</td>\n",
       "      <td>12</td>\n",
       "    </tr>\n",
       "    <tr>\n",
       "      <th>12</th>\n",
       "      <td>1989</td>\n",
       "      <td>0</td>\n",
       "    </tr>\n",
       "    <tr>\n",
       "      <th>13</th>\n",
       "      <td>1990</td>\n",
       "      <td>0</td>\n",
       "    </tr>\n",
       "    <tr>\n",
       "      <th>14</th>\n",
       "      <td>1991</td>\n",
       "      <td>0</td>\n",
       "    </tr>\n",
       "    <tr>\n",
       "      <th>15</th>\n",
       "      <td>1992</td>\n",
       "      <td>0</td>\n",
       "    </tr>\n",
       "    <tr>\n",
       "      <th>16</th>\n",
       "      <td>1993</td>\n",
       "      <td>0</td>\n",
       "    </tr>\n",
       "    <tr>\n",
       "      <th>17</th>\n",
       "      <td>1994</td>\n",
       "      <td>0</td>\n",
       "    </tr>\n",
       "    <tr>\n",
       "      <th>18</th>\n",
       "      <td>1995</td>\n",
       "      <td>0</td>\n",
       "    </tr>\n",
       "    <tr>\n",
       "      <th>19</th>\n",
       "      <td>1996</td>\n",
       "      <td>0</td>\n",
       "    </tr>\n",
       "    <tr>\n",
       "      <th>20</th>\n",
       "      <td>1997</td>\n",
       "      <td>0</td>\n",
       "    </tr>\n",
       "    <tr>\n",
       "      <th>21</th>\n",
       "      <td>1998</td>\n",
       "      <td>0</td>\n",
       "    </tr>\n",
       "    <tr>\n",
       "      <th>22</th>\n",
       "      <td>1999</td>\n",
       "      <td>0</td>\n",
       "    </tr>\n",
       "    <tr>\n",
       "      <th>23</th>\n",
       "      <td>2000</td>\n",
       "      <td>0</td>\n",
       "    </tr>\n",
       "    <tr>\n",
       "      <th>24</th>\n",
       "      <td>2001</td>\n",
       "      <td>0</td>\n",
       "    </tr>\n",
       "    <tr>\n",
       "      <th>25</th>\n",
       "      <td>2002</td>\n",
       "      <td>0</td>\n",
       "    </tr>\n",
       "    <tr>\n",
       "      <th>26</th>\n",
       "      <td>2003</td>\n",
       "      <td>0</td>\n",
       "    </tr>\n",
       "    <tr>\n",
       "      <th>27</th>\n",
       "      <td>2004</td>\n",
       "      <td>0</td>\n",
       "    </tr>\n",
       "    <tr>\n",
       "      <th>28</th>\n",
       "      <td>2005</td>\n",
       "      <td>0</td>\n",
       "    </tr>\n",
       "    <tr>\n",
       "      <th>29</th>\n",
       "      <td>2006</td>\n",
       "      <td>0</td>\n",
       "    </tr>\n",
       "    <tr>\n",
       "      <th>30</th>\n",
       "      <td>2007</td>\n",
       "      <td>0</td>\n",
       "    </tr>\n",
       "    <tr>\n",
       "      <th>31</th>\n",
       "      <td>2008</td>\n",
       "      <td>0</td>\n",
       "    </tr>\n",
       "    <tr>\n",
       "      <th>32</th>\n",
       "      <td>2009</td>\n",
       "      <td>0</td>\n",
       "    </tr>\n",
       "    <tr>\n",
       "      <th>33</th>\n",
       "      <td>2010</td>\n",
       "      <td>0</td>\n",
       "    </tr>\n",
       "    <tr>\n",
       "      <th>34</th>\n",
       "      <td>2011</td>\n",
       "      <td>0</td>\n",
       "    </tr>\n",
       "    <tr>\n",
       "      <th>35</th>\n",
       "      <td>2012</td>\n",
       "      <td>0</td>\n",
       "    </tr>\n",
       "    <tr>\n",
       "      <th>36</th>\n",
       "      <td>2013</td>\n",
       "      <td>0</td>\n",
       "    </tr>\n",
       "    <tr>\n",
       "      <th>37</th>\n",
       "      <td>2014</td>\n",
       "      <td>0</td>\n",
       "    </tr>\n",
       "    <tr>\n",
       "      <th>38</th>\n",
       "      <td>2015</td>\n",
       "      <td>0</td>\n",
       "    </tr>\n",
       "    <tr>\n",
       "      <th>39</th>\n",
       "      <td>2016</td>\n",
       "      <td>0</td>\n",
       "    </tr>\n",
       "    <tr>\n",
       "      <th>40</th>\n",
       "      <td>2017</td>\n",
       "      <td>0</td>\n",
       "    </tr>\n",
       "    <tr>\n",
       "      <th>41</th>\n",
       "      <td>2018</td>\n",
       "      <td>0</td>\n",
       "    </tr>\n",
       "    <tr>\n",
       "      <th>42</th>\n",
       "      <td>2019</td>\n",
       "      <td>0</td>\n",
       "    </tr>\n",
       "    <tr>\n",
       "      <th>43</th>\n",
       "      <td>2020</td>\n",
       "      <td>0</td>\n",
       "    </tr>\n",
       "    <tr>\n",
       "      <th>44</th>\n",
       "      <td>2021</td>\n",
       "      <td>0</td>\n",
       "    </tr>\n",
       "    <tr>\n",
       "      <th>45</th>\n",
       "      <td>2022</td>\n",
       "      <td>0</td>\n",
       "    </tr>\n",
       "    <tr>\n",
       "      <th>46</th>\n",
       "      <td>2023</td>\n",
       "      <td>300</td>\n",
       "    </tr>\n",
       "  </tbody>\n",
       "</table>\n",
       "</div>"
      ],
      "text/plain": [
       "    Year  No. of Missing Dates\n",
       "1   1978                   331\n",
       "2   1979                   183\n",
       "3   1980                   183\n",
       "4   1981                   182\n",
       "5   1982                   183\n",
       "6   1983                   182\n",
       "7   1984                   183\n",
       "8   1985                   183\n",
       "9   1986                   182\n",
       "10  1987                   145\n",
       "11  1988                    12\n",
       "12  1989                     0\n",
       "13  1990                     0\n",
       "14  1991                     0\n",
       "15  1992                     0\n",
       "16  1993                     0\n",
       "17  1994                     0\n",
       "18  1995                     0\n",
       "19  1996                     0\n",
       "20  1997                     0\n",
       "21  1998                     0\n",
       "22  1999                     0\n",
       "23  2000                     0\n",
       "24  2001                     0\n",
       "25  2002                     0\n",
       "26  2003                     0\n",
       "27  2004                     0\n",
       "28  2005                     0\n",
       "29  2006                     0\n",
       "30  2007                     0\n",
       "31  2008                     0\n",
       "32  2009                     0\n",
       "33  2010                     0\n",
       "34  2011                     0\n",
       "35  2012                     0\n",
       "36  2013                     0\n",
       "37  2014                     0\n",
       "38  2015                     0\n",
       "39  2016                     0\n",
       "40  2017                     0\n",
       "41  2018                     0\n",
       "42  2019                     0\n",
       "43  2020                     0\n",
       "44  2021                     0\n",
       "45  2022                     0\n",
       "46  2023                   300"
      ]
     },
     "execution_count": 298,
     "metadata": {},
     "output_type": "execute_result"
    }
   ],
   "source": [
    "start_year = (iceExtent['Date'].iloc[0]).year\n",
    "end_year = (iceExtent['Date'].iloc[-1]).year\n",
    "\n",
    "count = []\n",
    "for year in range(start_year,end_year+1):\n",
    "    date_range = pd.date_range(start = str(year)+\"-01-01\", end = str(year)+\"-12-31\")\n",
    "    count.append(len(date_range.difference(iceExtent['Date'])))\n",
    "date_count = {'Year':[x for x in range(start_year,end_year+1)],'No. of Missing Dates':count}\n",
    "missing_dates = pd.DataFrame(date_count)\n",
    "missing_dates.index = missing_dates.index+1\n",
    "missing_dates"
   ]
  },
  {
   "cell_type": "markdown",
   "metadata": {},
   "source": [
    "- Task 3.2: Evaluate the sea ice extent monthly averages; then similar to Task 2.2, in one figure, plot the monthly trend of the Antarctic and Arctic sea ice extents. (4 marks)"
   ]
  },
  {
   "cell_type": "code",
   "execution_count": 299,
   "metadata": {},
   "outputs": [
    {
     "data": {
      "image/png": "[encoded data removed]",
      "text/plain": [
       "<Figure size 432x288 with 1 Axes>"
      ]
     },
     "metadata": {
      "needs_background": "light"
     },
     "output_type": "display_data"
    }
   ],
   "source": [
    "#groupby month for each year\n",
    "monthly_antarctic = iceExtent.resample(rule='M', on='Date')['Extent (Antarctic)'].mean()\n",
    "monthly_arctic = iceExtent.resample(rule='M', on='Date')['Extent (Arctic)'].mean()\n",
    "\n",
    "antarctic_average = monthly_antarctic.groupby(monthly_antarctic.index.month).mean()\n",
    "arctic_average = monthly_arctic.groupby(monthly_arctic.index.month).mean()\n",
    "\n",
    "months = ['Jan','Feb','Mar','Apr','May','June','July','Aug','Sept','Oct','Nov','Dec']\n",
    "plt.plot(months,antarctic_average,color = 'orange',label = 'Antarctic')\n",
    "plt.plot(months,arctic_average, color = 'blue',label = 'Arctic')\n",
    "plt.xlabel(\"Months\")\n",
    "plt.ylabel(\"Ice Extent (10^6 sq km)\")\n",
    "plt.title(\"Monthly Average Ice Extent\")\n",
    "plt.legend()\n",
    "plt.show()"
   ]
  },
  {
   "cell_type": "raw",
   "metadata": {},
   "source": [
    "# YOUR WRITTEN ANSWER HERE\n",
    "https://stackoverflow.com/questions/24082784/pandas-dataframe-groupby-datetime-month\n",
    "https://www.geeksforgeeks.org/python-pandas-datetimeindex-month/\n"
   ]
  },
  {
   "cell_type": "markdown",
   "metadata": {},
   "source": [
    "#### Task 4: Study the central tendency of the data\n",
    "\n",
    "Recall from Lecture 3 that the most common measures of centre tendency are the 3M: Mode, Median, and\n",
    "Mean. We study these 3Ms one-by-one as below.\n",
    "\n",
    "- Task 4.1: Calculate and print the mode of both the Antarctic and Arctic sea ice extents. For this calculation, round both the Antarctic and Arctic sea ice extents to the nearest million. (4 marks)\n",
    "    "
   ]
  },
  {
   "cell_type": "code",
   "execution_count": 389,
   "metadata": {},
   "outputs": [
    {
     "name": "stdout",
     "output_type": "stream",
     "text": [
      "Antarctic Mode:  17.0  10^6 sq km\n",
      "Arctic Mode:  14.0  10^6 sq km\n"
     ]
    }
   ],
   "source": [
    "print(\"Antarctic Mode: \",iceExtent['Extent (Antarctic)'].mode().round()[0],\" 10^6 sq km\")\n",
    "print(\"Arctic Mode: \",iceExtent['Extent (Arctic)'].mode().round()[0],\" 10^6 sq km\")\n",
    "\n"
   ]
  },
  {
   "cell_type": "raw",
   "metadata": {},
   "source": [
    "# YOUR WRITTEN ANSWER HERE\n"
   ]
  },
  {
   "cell_type": "markdown",
   "metadata": {},
   "source": [
    "- Task 4.2: Calculate and print the median of both the Antarctic and Arctic sea ice extents (2 marks)\n",
    "    "
   ]
  },
  {
   "cell_type": "code",
   "execution_count": 301,
   "metadata": {},
   "outputs": [
    {
     "name": "stdout",
     "output_type": "stream",
     "text": [
      "Antarctic Median:  12.543  10^6 sq km\n",
      "Arctic Median:  11.981  10^6 sq km\n"
     ]
    }
   ],
   "source": [
    "print(\"Antarctic Median: \",round(iceExtent['Extent (Antarctic)'].median(),3),\" 10^6 sq km\")\n",
    "print(\"Arctic Median: \",round(iceExtent['Extent (Arctic)'].median(),3),\" 10^6 sq km\")"
   ]
  },
  {
   "cell_type": "raw",
   "metadata": {},
   "source": [
    "# YOUR WRITTEN ANSWER HERE\n"
   ]
  },
  {
   "cell_type": "markdown",
   "metadata": {},
   "source": [
    "- Task 4.3: Calculate and print the mean of both the Antarctic and Arctic sea ice extents (2 marks)\n",
    "    "
   ]
  },
  {
   "cell_type": "code",
   "execution_count": 388,
   "metadata": {},
   "outputs": [
    {
     "name": "stdout",
     "output_type": "stream",
     "text": [
      "Antarctic Mean:  11.6129  10^6 sq km\n",
      "Arctic Mean:  11.2535  10^6 sq km\n"
     ]
    }
   ],
   "source": [
    "print(\"Antarctic Mean: \",round(iceExtent['Extent (Antarctic)'].mean(),4),\" 10^6 sq km\")\n",
    "print(\"Arctic Mean: \",round(iceExtent['Extent (Arctic)'].mean(),4),\" 10^6 sq km\")"
   ]
  },
  {
   "cell_type": "raw",
   "metadata": {},
   "source": [
    "# YOUR WRITTEN ANSWER HERE\n"
   ]
  },
  {
   "cell_type": "markdown",
   "metadata": {},
   "source": [
    "#### Task 5: Study the variability of the data\n",
    "\n",
    "- Task 5.1: Create two new columns to store the sums of the missing extents and the corresponding polar regions (adding Missing Antarctic to Antarctic; adding Missing Arctic to Arctic). (2 marks) \n",
    "    "
   ]
  },
  {
   "cell_type": "code",
   "execution_count": 303,
   "metadata": {},
   "outputs": [
    {
     "data": {
      "text/html": [
       "<div>\n",
       "<style scoped>\n",
       "    .dataframe tbody tr th:only-of-type {\n",
       "        vertical-align: middle;\n",
       "    }\n",
       "\n",
       "    .dataframe tbody tr th {\n",
       "        vertical-align: top;\n",
       "    }\n",
       "\n",
       "    .dataframe thead th {\n",
       "        text-align: right;\n",
       "    }\n",
       "</style>\n",
       "<table border=\"1\" class=\"dataframe\">\n",
       "  <thead>\n",
       "    <tr style=\"text-align: right;\">\n",
       "      <th></th>\n",
       "      <th>Date</th>\n",
       "      <th>Extent (Antarctic)</th>\n",
       "      <th>Missing (Antarctic)</th>\n",
       "      <th>Extent (Arctic)</th>\n",
       "      <th>Missing (Arctic)</th>\n",
       "      <th>Total (Antarctic)</th>\n",
       "      <th>Total (Arctic)</th>\n",
       "    </tr>\n",
       "  </thead>\n",
       "  <tbody>\n",
       "    <tr>\n",
       "      <th>0</th>\n",
       "      <td>1978-10-26</td>\n",
       "      <td>17.624</td>\n",
       "      <td>0.0</td>\n",
       "      <td>10.231</td>\n",
       "      <td>0.000</td>\n",
       "      <td>17.624</td>\n",
       "      <td>10.231</td>\n",
       "    </tr>\n",
       "    <tr>\n",
       "      <th>1</th>\n",
       "      <td>1978-10-28</td>\n",
       "      <td>17.803</td>\n",
       "      <td>0.0</td>\n",
       "      <td>10.420</td>\n",
       "      <td>0.000</td>\n",
       "      <td>17.803</td>\n",
       "      <td>10.420</td>\n",
       "    </tr>\n",
       "    <tr>\n",
       "      <th>2</th>\n",
       "      <td>1978-10-30</td>\n",
       "      <td>17.670</td>\n",
       "      <td>0.0</td>\n",
       "      <td>10.557</td>\n",
       "      <td>0.000</td>\n",
       "      <td>17.670</td>\n",
       "      <td>10.557</td>\n",
       "    </tr>\n",
       "    <tr>\n",
       "      <th>3</th>\n",
       "      <td>1978-11-01</td>\n",
       "      <td>17.527</td>\n",
       "      <td>0.0</td>\n",
       "      <td>10.670</td>\n",
       "      <td>0.000</td>\n",
       "      <td>17.527</td>\n",
       "      <td>10.670</td>\n",
       "    </tr>\n",
       "    <tr>\n",
       "      <th>4</th>\n",
       "      <td>1978-11-03</td>\n",
       "      <td>17.486</td>\n",
       "      <td>0.0</td>\n",
       "      <td>10.777</td>\n",
       "      <td>0.000</td>\n",
       "      <td>17.486</td>\n",
       "      <td>10.777</td>\n",
       "    </tr>\n",
       "    <tr>\n",
       "      <th>...</th>\n",
       "      <td>...</td>\n",
       "      <td>...</td>\n",
       "      <td>...</td>\n",
       "      <td>...</td>\n",
       "      <td>...</td>\n",
       "      <td>...</td>\n",
       "      <td>...</td>\n",
       "    </tr>\n",
       "    <tr>\n",
       "      <th>14547</th>\n",
       "      <td>2023-03-02</td>\n",
       "      <td>1.908</td>\n",
       "      <td>0.0</td>\n",
       "      <td>14.627</td>\n",
       "      <td>0.000</td>\n",
       "      <td>1.908</td>\n",
       "      <td>14.627</td>\n",
       "    </tr>\n",
       "    <tr>\n",
       "      <th>14548</th>\n",
       "      <td>2023-03-03</td>\n",
       "      <td>1.877</td>\n",
       "      <td>0.0</td>\n",
       "      <td>14.610</td>\n",
       "      <td>0.000</td>\n",
       "      <td>1.877</td>\n",
       "      <td>14.610</td>\n",
       "    </tr>\n",
       "    <tr>\n",
       "      <th>14549</th>\n",
       "      <td>2023-03-04</td>\n",
       "      <td>1.896</td>\n",
       "      <td>0.0</td>\n",
       "      <td>14.641</td>\n",
       "      <td>0.000</td>\n",
       "      <td>1.896</td>\n",
       "      <td>14.641</td>\n",
       "    </tr>\n",
       "    <tr>\n",
       "      <th>14550</th>\n",
       "      <td>2023-03-05</td>\n",
       "      <td>1.939</td>\n",
       "      <td>0.0</td>\n",
       "      <td>14.646</td>\n",
       "      <td>0.000</td>\n",
       "      <td>1.939</td>\n",
       "      <td>14.646</td>\n",
       "    </tr>\n",
       "    <tr>\n",
       "      <th>14551</th>\n",
       "      <td>2023-03-06</td>\n",
       "      <td>2.034</td>\n",
       "      <td>0.0</td>\n",
       "      <td>14.579</td>\n",
       "      <td>0.003</td>\n",
       "      <td>2.034</td>\n",
       "      <td>14.582</td>\n",
       "    </tr>\n",
       "  </tbody>\n",
       "</table>\n",
       "<p>14552 rows × 7 columns</p>\n",
       "</div>"
      ],
      "text/plain": [
       "            Date  Extent (Antarctic)  Missing (Antarctic)  Extent (Arctic)  \\\n",
       "0     1978-10-26              17.624                  0.0           10.231   \n",
       "1     1978-10-28              17.803                  0.0           10.420   \n",
       "2     1978-10-30              17.670                  0.0           10.557   \n",
       "3     1978-11-01              17.527                  0.0           10.670   \n",
       "4     1978-11-03              17.486                  0.0           10.777   \n",
       "...          ...                 ...                  ...              ...   \n",
       "14547 2023-03-02               1.908                  0.0           14.627   \n",
       "14548 2023-03-03               1.877                  0.0           14.610   \n",
       "14549 2023-03-04               1.896                  0.0           14.641   \n",
       "14550 2023-03-05               1.939                  0.0           14.646   \n",
       "14551 2023-03-06               2.034                  0.0           14.579   \n",
       "\n",
       "       Missing (Arctic)  Total (Antarctic)  Total (Arctic)  \n",
       "0                 0.000             17.624          10.231  \n",
       "1                 0.000             17.803          10.420  \n",
       "2                 0.000             17.670          10.557  \n",
       "3                 0.000             17.527          10.670  \n",
       "4                 0.000             17.486          10.777  \n",
       "...                 ...                ...             ...  \n",
       "14547             0.000              1.908          14.627  \n",
       "14548             0.000              1.877          14.610  \n",
       "14549             0.000              1.896          14.641  \n",
       "14550             0.000              1.939          14.646  \n",
       "14551             0.003              2.034          14.582  \n",
       "\n",
       "[14552 rows x 7 columns]"
      ]
     },
     "execution_count": 303,
     "metadata": {},
     "output_type": "execute_result"
    }
   ],
   "source": [
    "iceExtent['Total (Antarctic)'] = iceExtent['Extent (Antarctic)'] + iceExtent ['Missing (Antarctic)']\n",
    "iceExtent['Total (Arctic)'] = iceExtent['Extent (Arctic)'] + iceExtent ['Missing (Arctic)']\n",
    "iceExtent"
   ]
  },
  {
   "cell_type": "raw",
   "metadata": {},
   "source": [
    "# YOUR WRITTEN ANSWER HERE\n"
   ]
  },
  {
   "cell_type": "markdown",
   "metadata": {},
   "source": [
    "- Task 5.2: Using the two new columns, calculate and print the range of both the Antarctic and Arctic sea ice extents (2 marks)\n",
    "    "
   ]
  },
  {
   "cell_type": "code",
   "execution_count": 304,
   "metadata": {},
   "outputs": [
    {
     "name": "stdout",
     "output_type": "stream",
     "text": [
      "Antarctic Range:  18.435 10^6 sq km\n",
      "Arctic Range:  13.295 10^6 sq km\n"
     ]
    }
   ],
   "source": [
    "print(\"Antarctic Range: \",round((iceExtent['Total (Antarctic)'].max()\n",
    "                                 -iceExtent['Total (Antarctic)'].min()),3),\"10^6 sq km\")\n",
    "\n",
    "print(\"Arctic Range: \",round((iceExtent['Total (Arctic)'].max()\n",
    "                              -iceExtent['Total (Arctic)'].min()),3),\"10^6 sq km\")\n"
   ]
  },
  {
   "cell_type": "raw",
   "metadata": {},
   "source": [
    "# YOUR WRITTEN ANSWER HERE\n"
   ]
  },
  {
   "cell_type": "markdown",
   "metadata": {},
   "source": [
    "- Task 5.3: Using the two new columns, calculate and print the variance of both the Antarctic and Arctic sea ice extents (2 marks)\n",
    "    "
   ]
  },
  {
   "cell_type": "code",
   "execution_count": 305,
   "metadata": {},
   "outputs": [
    {
     "name": "stdout",
     "output_type": "stream",
     "text": [
      "Antarctic Variance:  32.0391 10^12 sq km\n",
      "Arctic Variance:  10.9491 10^12 sq km\n"
     ]
    }
   ],
   "source": [
    "print(\"Antarctic Variance: \",round(iceExtent['Total (Antarctic)'].var(),4),\"10^12 sq km\")\n",
    "print(\"Arctic Variance: \",round(iceExtent['Total (Arctic)'].var(),4),\"10^12 sq km\")\n",
    "\n"
   ]
  },
  {
   "cell_type": "raw",
   "metadata": {},
   "source": [
    "# YOUR WRITTEN ANSWER HERE\n"
   ]
  },
  {
   "cell_type": "markdown",
   "metadata": {},
   "source": [
    "- Task 5.5: Using the two new columns, calculate and print the standard deviation of both the Antarctic and Arctic sea ice extents (2 marks)"
   ]
  },
  {
   "cell_type": "code",
   "execution_count": 306,
   "metadata": {},
   "outputs": [
    {
     "name": "stdout",
     "output_type": "stream",
     "text": [
      "Antarctic STD:  5.6603 10^6 sq km\n",
      "Arctic STD:  3.3089 10^6 sq km\n"
     ]
    }
   ],
   "source": [
    "print(\"Antarctic STD: \",round(iceExtent['Total (Antarctic)'].std(),4),\"10^6 sq km\")\n",
    "print(\"Arctic STD: \",round(iceExtent['Total (Arctic)'].std(),4),\"10^6 sq km\")\n"
   ]
  },
  {
   "cell_type": "raw",
   "metadata": {},
   "source": [
    "# YOUR WRITTEN ANSWER HERE\n"
   ]
  },
  {
   "cell_type": "markdown",
   "metadata": {},
   "source": [
    "******\n",
    "## Q2: EXPLORATORY DATA ANALYSIS\n",
    "\n",
    "In this section you are expected to do an exploratory data analysis on the dataset. Herein, we use the data generated in Task 5.1. \n",
    "\n",
    "- Task 1: Explore the correlation of the Antarctic and Arctic sea ice extents. You need to use both plot/plots and correlation test. (6 marks)"
   ]
  },
  {
   "cell_type": "code",
   "execution_count": 307,
   "metadata": {},
   "outputs": [
    {
     "name": "stdout",
     "output_type": "stream",
     "text": [
      "Correlation Coefficient:  -0.9187220059718301\n"
     ]
    },
    {
     "data": {
      "image/png": "[encoded data removed]",
      "text/plain": [
       "<Figure size 432x288 with 1 Axes>"
      ]
     },
     "metadata": {
      "needs_background": "light"
     },
     "output_type": "display_data"
    }
   ],
   "source": [
    "correlation = iceExtent['Total (Antarctic)'].corr(iceExtent['Total (Arctic)'])\n",
    "print(\"Correlation Coefficient: \",correlation)\n",
    "\n",
    "#index 0 = slope, 1 = intercept\n",
    "best_fit_line = np.polyfit(iceExtent['Total (Antarctic)'],iceExtent['Total (Arctic)'],deg = 1) \n",
    "\n",
    "plt.scatter(iceExtent['Total (Antarctic)'], iceExtent['Total (Arctic)'],color = \"orange\")\n",
    "plt.plot(iceExtent['Total (Antarctic)'],\n",
    "         iceExtent['Total (Antarctic)']*best_fit_line[0] + best_fit_line[1],color = \"blue\")\n",
    "plt.xlabel(\"Total (Antarctic) Extent 10^6 sq km\")\n",
    "plt.ylabel(\"Total (Arctic) Extent 10^6 sq km\")\n",
    "plt.title(\"Relationship between Antarctic and Arctic Ice Extents\")\n",
    "plt.show()"
   ]
  },
  {
   "cell_type": "raw",
   "metadata": {},
   "source": [
    "# YOUR WRITTEN ANSWER HERE"
   ]
  },
  {
   "cell_type": "markdown",
   "metadata": {},
   "source": [
    "- Task 2: Shift the Arctic sea ice extent **forward** by six months (for example, this shift moves the date 15/01/2000 to 15/07/2000) and process your data appriopriately so that the dates match (4 marks)\n",
    "\n",
    "    **Hints**: (a) basically you want to remove the first six months of the Antarctic sea ice extent and the last six months so that the time window matches; (b) there are dates where either Antarctic sea ice extent or Arctic sea ice extent is missing; remove these rows to match. "
   ]
  },
  {
   "cell_type": "code",
   "execution_count": 308,
   "metadata": {},
   "outputs": [
    {
     "data": {
      "text/html": [
       "<div>\n",
       "<style scoped>\n",
       "    .dataframe tbody tr th:only-of-type {\n",
       "        vertical-align: middle;\n",
       "    }\n",
       "\n",
       "    .dataframe tbody tr th {\n",
       "        vertical-align: top;\n",
       "    }\n",
       "\n",
       "    .dataframe thead th {\n",
       "        text-align: right;\n",
       "    }\n",
       "</style>\n",
       "<table border=\"1\" class=\"dataframe\">\n",
       "  <thead>\n",
       "    <tr style=\"text-align: right;\">\n",
       "      <th></th>\n",
       "      <th>Date</th>\n",
       "      <th>Total (Arctic)</th>\n",
       "      <th>Total (Antarctic)</th>\n",
       "    </tr>\n",
       "  </thead>\n",
       "  <tbody>\n",
       "    <tr>\n",
       "      <th>0</th>\n",
       "      <td>1979-04-26</td>\n",
       "      <td>10.231</td>\n",
       "      <td>8.791</td>\n",
       "    </tr>\n",
       "    <tr>\n",
       "      <th>1</th>\n",
       "      <td>1979-04-28</td>\n",
       "      <td>10.420</td>\n",
       "      <td>8.970</td>\n",
       "    </tr>\n",
       "    <tr>\n",
       "      <th>2</th>\n",
       "      <td>1979-04-30</td>\n",
       "      <td>10.557</td>\n",
       "      <td>9.038</td>\n",
       "    </tr>\n",
       "    <tr>\n",
       "      <th>3</th>\n",
       "      <td>1979-06-01</td>\n",
       "      <td>12.725</td>\n",
       "      <td>12.654</td>\n",
       "    </tr>\n",
       "    <tr>\n",
       "      <th>4</th>\n",
       "      <td>1979-06-03</td>\n",
       "      <td>12.660</td>\n",
       "      <td>13.061</td>\n",
       "    </tr>\n",
       "    <tr>\n",
       "      <th>...</th>\n",
       "      <td>...</td>\n",
       "      <td>...</td>\n",
       "      <td>...</td>\n",
       "    </tr>\n",
       "    <tr>\n",
       "      <th>13627</th>\n",
       "      <td>2023-03-02</td>\n",
       "      <td>4.986</td>\n",
       "      <td>1.908</td>\n",
       "    </tr>\n",
       "    <tr>\n",
       "      <th>13628</th>\n",
       "      <td>2023-03-03</td>\n",
       "      <td>4.986</td>\n",
       "      <td>1.877</td>\n",
       "    </tr>\n",
       "    <tr>\n",
       "      <th>13629</th>\n",
       "      <td>2023-03-04</td>\n",
       "      <td>4.861</td>\n",
       "      <td>1.896</td>\n",
       "    </tr>\n",
       "    <tr>\n",
       "      <th>13630</th>\n",
       "      <td>2023-03-05</td>\n",
       "      <td>4.878</td>\n",
       "      <td>1.939</td>\n",
       "    </tr>\n",
       "    <tr>\n",
       "      <th>13631</th>\n",
       "      <td>2023-03-06</td>\n",
       "      <td>4.851</td>\n",
       "      <td>2.034</td>\n",
       "    </tr>\n",
       "  </tbody>\n",
       "</table>\n",
       "<p>13632 rows × 3 columns</p>\n",
       "</div>"
      ],
      "text/plain": [
       "            Date  Total (Arctic)  Total (Antarctic)\n",
       "0     1979-04-26          10.231              8.791\n",
       "1     1979-04-28          10.420              8.970\n",
       "2     1979-04-30          10.557              9.038\n",
       "3     1979-06-01          12.725             12.654\n",
       "4     1979-06-03          12.660             13.061\n",
       "...          ...             ...                ...\n",
       "13627 2023-03-02           4.986              1.908\n",
       "13628 2023-03-03           4.986              1.877\n",
       "13629 2023-03-04           4.861              1.896\n",
       "13630 2023-03-05           4.878              1.939\n",
       "13631 2023-03-06           4.851              2.034\n",
       "\n",
       "[13632 rows x 3 columns]"
      ]
     },
     "execution_count": 308,
     "metadata": {},
     "output_type": "execute_result"
    }
   ],
   "source": [
    "from pandas.tseries.offsets import DateOffset\n",
    "\n",
    "#arctic date shift\n",
    "arcticExtent = iceExtent[['Date','Total (Arctic)']].copy()\n",
    "arcticExtent['Date']= arcticExtent['Date'] + DateOffset(months = 6)\n",
    "\n",
    "antarcticExtent = iceExtent[['Date','Total (Antarctic)']].copy()\n",
    "\n",
    "#date matched\n",
    "iceExtent2 = pd.merge(arcticExtent,antarcticExtent, on = 'Date')\n",
    "iceExtent2"
   ]
  },
  {
   "cell_type": "raw",
   "metadata": {},
   "source": [
    "# YOUR WRITTEN ANSWER HERE\n",
    "https://www.statology.org/add-subtract-months-from-date-pandas/\n",
    "https://stackoverflow.com/questions/45175060/merge-dataframes-with-matching-values-from-two-different-columns-pandas"
   ]
  },
  {
   "cell_type": "markdown",
   "metadata": {},
   "source": [
    "- Task 3: Explore the correlation of the new data set. (4 marks) \n",
    "    "
   ]
  },
  {
   "cell_type": "code",
   "execution_count": 309,
   "metadata": {},
   "outputs": [
    {
     "name": "stdout",
     "output_type": "stream",
     "text": [
      "Correlation Coefficient:  0.9406944771157763\n"
     ]
    },
    {
     "data": {
      "image/png": "[encoded data removed]",
      "text/plain": [
       "<Figure size 432x288 with 1 Axes>"
      ]
     },
     "metadata": {
      "needs_background": "light"
     },
     "output_type": "display_data"
    }
   ],
   "source": [
    "correlation = iceExtent2['Total (Antarctic)'].corr(iceExtent2['Total (Arctic)'])\n",
    "print(\"Correlation Coefficient: \",correlation)\n",
    "\n",
    "#index 0 = slope, 1 = intercept\n",
    "best_fit_line = np.polyfit(iceExtent2['Total (Antarctic)'],iceExtent2['Total (Arctic)'],deg = 1) \n",
    "\n",
    "plt.scatter(iceExtent2['Total (Antarctic)'], iceExtent2['Total (Arctic)'],color = \"orange\")\n",
    "plt.plot(iceExtent2['Total (Antarctic)'],\n",
    "         iceExtent2['Total (Antarctic)']*best_fit_line[0] + best_fit_line[1],color = \"blue\")\n",
    "plt.xlabel(\"Total (Antarctic) Extent 10^6 sq km\")\n",
    "plt.ylabel(\"Total (Arctic) Extent 10^6 sq km\")\n",
    "plt.title(\"Relationship between Antarctic and Arctic Ice Extents\")\n",
    "plt.show()"
   ]
  },
  {
   "cell_type": "raw",
   "metadata": {},
   "source": [
    "# YOUR WRITTEN ANSWER HERE"
   ]
  },
  {
   "cell_type": "markdown",
   "metadata": {},
   "source": [
    "- Task 4: Compare the results of Task 3 with Task 1 and discuss the comparison. (4 marks)\n",
    "    "
   ]
  },
  {
   "cell_type": "code",
   "execution_count": 310,
   "metadata": {},
   "outputs": [],
   "source": [
    "# YOUR CODE HERE\n"
   ]
  },
  {
   "cell_type": "raw",
   "metadata": {},
   "source": [
    "To find the correlation of the Antarctic and Arctic sea ice extents, the pearson correlation test is used instead of chi squared test. Pearson correlation coefficient indicates if there is a relationship between the iceExtents as well as the direction of the relation. \n",
    "\n",
    "In Task 2.1 , the correlation coefficient is -0.918 indicates a very strong negative correlation, i.e., When one variable changes, the other variables change in the opposite direction.\n",
    "\n",
    "The negative correlation can also be shown with a scatterplot. In the graph, Arctic ice extent decreases as Antarctic ice extent increases, confirming a strong negative correlation.\n",
    "\n",
    "In Task 2.3 , the correlation coefficient is +0.94 indicates a very strong positive correlation, i.e., When one variable changes, the other variables change in the same direction. The same results can be seen on the scatterplot.\n"
   ]
  },
  {
   "cell_type": "markdown",
   "metadata": {},
   "source": [
    "- Task 5: Further exploration (12 marks)\n",
    "   \n",
    "    * Perform Boxplot analysis of both the the Antarctic and Arctic sea ice extents and describe the boxplots and discuss the comparison of the two. (6 marks)\n",
    "    \n",
    "    * Perform both one-sample (for Antartic sea ice extent with known value 1.0x10^7 square kilometers) and two-sample T-tests. (6 marks) **Hints** (a) The Lecture note 3 may be helpful (for example see page 49 regarding the definition); (b) Announce some descriptive stats on your data and explain what they mean in the context of this dataset.\n",
    "    "
   ]
  },
  {
   "cell_type": "code",
   "execution_count": 387,
   "metadata": {},
   "outputs": [
    {
     "data": {
      "image/png": "[encoded data removed]",
      "text/plain": [
       "<Figure size 432x288 with 1 Axes>"
      ]
     },
     "metadata": {
      "needs_background": "light"
     },
     "output_type": "display_data"
    },
    {
     "data": {
      "image/png": "[encoded data removed]",
      "text/plain": [
       "<Figure size 432x360 with 1 Axes>"
      ]
     },
     "metadata": {
      "needs_background": "light"
     },
     "output_type": "display_data"
    },
    {
     "data": {
      "image/png": "[encoded data removed]",
      "text/plain": [
       "<Figure size 432x360 with 1 Axes>"
      ]
     },
     "metadata": {
      "needs_background": "light"
     },
     "output_type": "display_data"
    },
    {
     "name": "stdout",
     "output_type": "stream",
     "text": [
      "One Sample T-Test\n",
      "t-value:  34.37475171609298\n",
      "p-value:  4.812468625924823e-249\n",
      " \n",
      "Two Sample T-Test\n",
      "t-value:  6.612327265346739\n",
      "p-value:  3.848683949384268e-11\n"
     ]
    }
   ],
   "source": [
    "#boxplot\n",
    "iceExtent.boxplot(['Total (Antarctic)','Total (Arctic)'], showmeans = True, color = 'black')\n",
    "plt.ylabel('Ice Extent 10^6 sq km')\n",
    "plt.title('Antarctic and Arctic Ice Extent Comparison')\n",
    "plt.show()\n",
    "\n",
    "#un-normalised data\n",
    "plt.figure(figsize=(6,5))\n",
    "plt.hist(iceExtent['Total (Antarctic)'], color = 'blue',alpha = 0.5, label = 'Antarctic')\n",
    "plt.axvline(np.mean(iceExtent['Total (Antarctic)']), color = 'blue', linestyle = 'dashed', linewidth = 5)\n",
    "plt.hist (iceExtent['Total (Arctic)'], color = 'orange',alpha = 0.5, label = 'Arctic')\n",
    "plt.axvline(np.mean(iceExtent['Total (Arctic)']), color = 'orange', linestyle = 'dashed', linewidth = 5)\n",
    "plt.title(\"Un-normalised Ice Extent\")\n",
    "plt.xlabel(\"Ice Extent 10^6 sq km\")\n",
    "plt.ylabel(\"Number of Occourences\")\n",
    "plt.legend()\n",
    "\n",
    "# normalised data\n",
    "iceExtent['Antarctic_Normal'] = (iceExtent['Total (Antarctic)'] - \n",
    "                                 iceExtent['Total (Antarctic)'].mean()) / iceExtent['Total (Antarctic)'].std()\n",
    "iceExtent['Arctic_Normal'] = (iceExtent['Total (Arctic)'] - \n",
    "                                 iceExtent['Total (Arctic)'].mean()) / iceExtent['Total (Arctic)'].std()\n",
    "plt.figure(figsize=(6,5))\n",
    "plt.hist(iceExtent['Antarctic_Normal'], color = 'blue',alpha = 0.5, label = 'Antarctic')\n",
    "plt.axvline(np.mean(iceExtent['Antarctic_Normal']), color = 'blue', linestyle = 'dashed', linewidth = 5)\n",
    "plt.hist (iceExtent['Arctic_Normal'], color = 'orange',alpha = 0.5, label = 'Arctic')\n",
    "plt.axvline(np.mean(iceExtent['Arctic_Normal']), color = 'orange', linestyle = 'dashed', linewidth = 5)\n",
    "plt.title(\"Normalised Ice Extent\")\n",
    "plt.xlabel(\"Ice Extent 10^6 sq km\")\n",
    "plt.ylabel(\"Number of Occourences\")\n",
    "plt.legend()\n",
    "plt.show()\n",
    "\n",
    "one_sample = stats.ttest_1samp(iceExtent['Total (Antarctic)'].multiply(10**6),10**7)\n",
    "one_t = one_sample[0]\n",
    "one_p = one_sample[1]\n",
    "print(\"One Sample T-Test\")\n",
    "print(\"t-value: \",one_t)\n",
    "print(\"p-value: \",one_p)\n",
    "print(\" \")\n",
    "\n",
    "two_sample = stats.ttest_ind(iceExtent['Total (Antarctic)'],\n",
    "                             iceExtent['Total (Arctic)'])\n",
    "two_t = two_sample[0]\n",
    "two_p = two_sample[1]\n",
    "print(\"Two Sample T-Test\")\n",
    "print(\"t-value: \",two_t)\n",
    "print(\"p-value: \",two_p)\n"
   ]
  },
  {
   "cell_type": "raw",
   "metadata": {},
   "source": [
    "The box plot shows \n",
    "    1. IQR of Antarctic Extent is more than IQR of Arctic Extent.\n",
    "    2. Means of both extents are close.\n",
    "    3. Medians of both extents are close.\n",
    "    4. Both extents are skewed as their boxplots are asymmetrical, with arctic extent being more skewed than antarctic.\n",
    "    5. Since the whiskers for arctic extent are long, there is more variablility in data.\n",
    "\n",
    "For T-Tests, the data has to be normalised. Since the histogram of the normalised and un-normalised data for Arctic and Antarctic extent looks very similar, T-Tests can be performed.\n",
    "\n",
    "For one sample T-test, our null hypothesis is \" Mean Antarctic ice Extent is equal to 10^7 sq km \". The t-value is positive and large , meaning the sample mean is greater than the population mean and the p-value is very small indicating that the null hypothesis can be rejected.\n",
    "\n",
    "For two sample T-test, out null hypothesis is \"Mean Antarctic ice Extent is equal to the Mean Arctic ice Extent\". The t-value is large and the p-value is small indicating that the null hypothesis can be rejected."
   ]
  },
  {
   "cell_type": "markdown",
   "metadata": {},
   "source": [
    "******\n",
    "## Q3: Linear Regression\n",
    "\n",
    "The exciting stage is here! Your task is to create several Regression Models in this section. The goal is to build useful models (keep in mind that \"All models are wrong, but some are useful\", a quote by George Box) for forecasting the evolution of the sea ice extent. For this purpose and for simplicity, we focus on Antarctic region (only use data from the year 1980 to 2022 for the Antarctic sea ice except for Task 5 below). Herein, we use the data generated in Task 5.1. Specifically, the tasks are below.\n",
    "\n",
    "\n",
    "- Task 1: Use the data from the year 1980 to 2021 and build a linear regression model for the Antarctic sea ice extent. Specifically, \n",
    "\n",
    "    - The input (x-axis) of the model should be time (the j-th day since the first day in 01/01/1980) and the output is the predicted Antarctic sea ice extent, y-axis, for a given time/date). (4 marks)\n",
    "    \n",
    "    - Visualise the model: in a scatter plot of the data from 1980 to 2021, draw the linear regression modeled line. (4 marks)\n",
    "    \n",
    "    - Apply the model to predict the sea ice extend for the year of 2022. (2 marks)\n",
    "    \n",
    "    - Visualise and plot the comparision of the predicted values of 2022 with the actual values from the data. (4 marks)\n",
    "    \n",
    "    - Calculate the root mean squared error and R-squared value of the predicted values of 2022. (2 marks)"
   ]
  },
  {
   "cell_type": "code",
   "execution_count": 20,
   "metadata": {},
   "outputs": [],
   "source": [
    "# YOUR CODE HERE\n"
   ]
  },
  {
   "cell_type": "raw",
   "metadata": {},
   "source": [
    "# YOUR WRITTEN ANSWER HERE\n"
   ]
  },
  {
   "cell_type": "markdown",
   "metadata": {},
   "source": [
    "- Task 2: Perform the same study as above but build four linear regression models for each year where one for each season in the year (In Australia: December to February is summer; March to May is autumn; June to August is winter; and September to November is spring. **There are only four seasons**). (8 marks: the marks in each of the five parts in Task 1 above are halved) \n",
    "\n",
    "    **Requirements and hints are**\n",
    "\n",
    "    - Your model shall consists of line segments. Specifically, there should be four lines in each year (build a linear regression model for each season). Thus, in total, there should be 42*4=168 line segments. \n",
    "    \n",
    "    - For better visualisation of your model, you may plot each of these line segments with one color for one season. \n",
    "    \n",
    "    - In order to make a prediction about the extent of sea ice in 2022, we must use 168 line segments from the years 1980 to 2021 to create four line segments for 2022. To achieve this, we must determine the slopes and y-intercepts of these four line segments for 2022 using linear regression analysis. For example, we can use the 42 slopes of the lines of Springs over 1980 to 2021 to create a linear regression model to predict the slope of the line for Spring 2022."
   ]
  },
  {
   "cell_type": "code",
   "execution_count": 21,
   "metadata": {},
   "outputs": [],
   "source": [
    "# YOUR CODE HERE\n"
   ]
  },
  {
   "cell_type": "raw",
   "metadata": {},
   "source": [
    "# YOUR WRITTEN ANSWER HERE\n"
   ]
  },
  {
   "cell_type": "markdown",
   "metadata": {},
   "source": [
    "- Task 3: Perform the same study as above (taking both Tasks 1 and 2 into consideration) but build 12 linear regression models for each year where one for each month in the year (8 marks: the marks in each of the five parts in Task 1 above are halved.)"
   ]
  },
  {
   "cell_type": "code",
   "execution_count": 22,
   "metadata": {},
   "outputs": [],
   "source": [
    "# YOUR CODE HERE\n"
   ]
  },
  {
   "cell_type": "raw",
   "metadata": {},
   "source": [
    "# YOUR WRITTEN ANSWER HERE\n"
   ]
  },
  {
   "cell_type": "markdown",
   "metadata": {},
   "source": [
    "- Task 4: Compare and discuss the performance of models developed in Task 1, 2, and 3. (4 marks)"
   ]
  },
  {
   "cell_type": "code",
   "execution_count": 23,
   "metadata": {},
   "outputs": [],
   "source": [
    "# YOUR CODE HERE\n"
   ]
  },
  {
   "cell_type": "raw",
   "metadata": {},
   "source": [
    "# YOUR WRITTEN ANSWER HERE\n"
   ]
  },
  {
   "cell_type": "markdown",
   "metadata": {},
   "source": [
    "- Task 5 (for bonus marks): Be creative and develop your own models using the data until 2021 and apply it to predict the sea ice extent of the year of 2022. The goal is to develop a model which gives smaller root mean squared errors than those from the models developed above. You can use Arctic data here if it helps (only for this Task in Q3). (5 bonus marks)"
   ]
  },
  {
   "cell_type": "code",
   "execution_count": 24,
   "metadata": {},
   "outputs": [],
   "source": [
    "# YOUR CODE HERE\n"
   ]
  },
  {
   "cell_type": "raw",
   "metadata": {},
   "source": [
    "# YOUR WRITTEN ANSWER HERE\n"
   ]
  }
 ],
 "metadata": {
  "kernelspec": {
   "display_name": "Python 3",
   "language": "python",
   "name": "python3"
  },
  "language_info": {
   "codemirror_mode": {
    "name": "ipython",
    "version": 3
   },
   "file_extension": ".py",
   "mimetype": "text/x-python",
   "name": "python",
   "nbconvert_exporter": "python",
   "pygments_lexer": "ipython3",
   "version": "3.8.3"
  }
 },
 "nbformat": 4,
 "nbformat_minor": 4
}
